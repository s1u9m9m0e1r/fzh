{
 "cells": [
  {
   "cell_type": "markdown",
   "metadata": {},
   "source": [
    "# 函数\n",
    "\n",
    "- 函数可以用来定义可重复代码，组织和简化\n",
    "- 一般来说一个函数在实际开发中为一个小功能\n",
    "- 一个类为一个大功能\n",
    "- 同样函数的长度不要超过一屏"
   ]
  },
  {
   "cell_type": "code",
   "execution_count": 3,
   "metadata": {},
   "outputs": [
    {
     "name": "stdout",
     "output_type": "stream",
     "text": [
      "ykykykykyk\n"
     ]
    }
   ],
   "source": [
    "def yk():\n",
    "    '''\n",
    "    函数格式 \n",
    "    ykykyky\n",
    "    paramets：\n",
    "        print  --------->打印\n",
    "    '''\n",
    "    print('ykykykykyk')\n",
    "yk()#调用函数"
   ]
  },
  {
   "cell_type": "markdown",
   "metadata": {},
   "source": [
    "## 定义一个函数\n",
    "\n",
    "def function_name(list of parameters):\n",
    "    \n",
    "    do something\n",
    "![](../Photo/69.png)\n",
    "- 以前使用的random 或者range 或者print.. 其实都是函数或者类"
   ]
  },
  {
   "cell_type": "code",
   "execution_count": 9,
   "metadata": {},
   "outputs": [
    {
     "name": "stdout",
     "output_type": "stream",
     "text": [
      "一,二姐姐三急急急\n"
     ]
    }
   ],
   "source": [
    "def yf(name,name2,name3 = '四'): # 如果定义参数为默认参数，没有传参时，使用默认参数，有传参时，使用传入的参数。只能给最后的参数设置默认参数\n",
    "    '''\n",
    "    '''\n",
    "    print('{},{}姐姐{}急急急'.format(name,name2,name3))\n",
    "yf('一','二','三')\n",
    "    "
   ]
  },
  {
   "cell_type": "code",
   "execution_count": 19,
   "metadata": {},
   "outputs": [
    {
     "name": "stdout",
     "output_type": "stream",
     "text": [
      ">>7\n",
      "0 print ,1 not print1\n"
     ]
    }
   ],
   "source": [
    "def yz(num):\n",
    "    if num % 2 == 0:\n",
    "        d = eval(input('0 print ,1 not print : '))\n",
    "        if d == 0:\n",
    "            print(num,'是偶数')\n",
    "    else:\n",
    "        d = eval(input('0 print ,1 not print'))\n",
    "        if d == 0:\n",
    "            print(num,'是奇数')\n",
    "num1 = eval(input('>>'))\n",
    "yz(num1)"
   ]
  },
  {
   "cell_type": "code",
   "execution_count": 16,
   "metadata": {},
   "outputs": [
    {
     "name": "stdout",
     "output_type": "stream",
     "text": [
      ">>7\n"
     ]
    }
   ],
   "source": [
    "def yz(num,is_print = True):\n",
    "    if num % 2 == 0:\n",
    "        if is_print :\n",
    "            print(num,'是偶数')\n",
    "    else:\n",
    "        if is_print :\n",
    "            print(num,'是奇数')\n",
    "num1 = eval(input('>>'))\n",
    "yz(num1,False)"
   ]
  },
  {
   "cell_type": "markdown",
   "metadata": {},
   "source": [
    "## 调用一个函数\n",
    "- functionName()\n",
    "- \"()\" 就代表调用"
   ]
  },
  {
   "cell_type": "code",
   "execution_count": 21,
   "metadata": {},
   "outputs": [
    {
     "name": "stdout",
     "output_type": "stream",
     "text": [
      "yk:say\n"
     ]
    }
   ],
   "source": [
    "def fun1(name):\n",
    "    print(name,end=':')\n",
    "    fun2()\n",
    "def fun2():\n",
    "    print('say')\n",
    "fun1('yk')\n"
   ]
  },
  {
   "cell_type": "code",
   "execution_count": 27,
   "metadata": {},
   "outputs": [
    {
     "name": "stdout",
     "output_type": "stream",
     "text": [
      "1 fun_qi\n",
      "2 fun_ou\n",
      "3 fun_qi\n",
      "4 fun_ou\n",
      "5 fun_qi\n",
      "6 fun_ou\n",
      "7 fun_qi\n",
      "8 fun_ou\n",
      "9 fun_qi\n",
      "10 fun_ou\n"
     ]
    }
   ],
   "source": [
    "def fun_qi(num):\n",
    "    if num % 2 != 0:\n",
    "        print(num,'fun_qi')\n",
    "    else:\n",
    "        fun_ou(num)\n",
    "def fun_ou(num1):\n",
    "    print(num1,'fun_ou')\n",
    "for i in range(1,11):\n",
    "    fun_qi(i)"
   ]
  },
  {
   "cell_type": "code",
   "execution_count": 32,
   "metadata": {},
   "outputs": [
    {
     "data": {
      "text/plain": [
       "'fdedaafb043d41ff06b6ef249ef53be9'"
      ]
     },
     "execution_count": 32,
     "metadata": {},
     "output_type": "execute_result"
    }
   ],
   "source": [
    "import hashlib#md5加密\n",
    "\n",
    "date = 'This a md5 test!'\n",
    "hash_md5 = hashlib.md5(date.encode())\n",
    "\n",
    "hash_md5.hexdigest()#输出32位16进制数"
   ]
  },
  {
   "cell_type": "code",
   "execution_count": 74,
   "metadata": {},
   "outputs": [
    {
     "name": "stdout",
     "output_type": "stream",
     "text": [
      "Enter a password:qwer\n",
      "False\n"
     ]
    }
   ],
   "source": [
    "import hashlib\n",
    "password = 'ykykyk'\n",
    "hash_md = hashlib.md5(password.encode())\n",
    "date = hash_md.hexdigest()\n",
    "def fun_passwd(num):\n",
    "    passwd = input('Enter a password:')\n",
    "    fun_result(num, fun_md5(passwd))\n",
    "def fun_md5(passwd):\n",
    "    hash_ma5 = hashlib.md5(passwd.encode())\n",
    "    date = hash_md5.hexdigest()\n",
    "def fun_result(num1,num2):\n",
    "    if num1 == num2:\n",
    "        print('True')\n",
    "    else:\n",
    "        print('False')\n",
    "\n",
    "#print(date)\n",
    "fun_passwd(date)"
   ]
  },
  {
   "cell_type": "code",
   "execution_count": 72,
   "metadata": {},
   "outputs": [
    {
     "name": "stdout",
     "output_type": "stream",
     "text": [
      "Faild\n"
     ]
    }
   ],
   "source": [
    "import hashlib\n",
    "\n",
    "#---------数据库里面的密码-----------\n",
    "password = 'ykykyk'\n",
    "hash_md = hashlib.md5(password.encode())\n",
    "init_passwd = hash_md.hexdigest()\n",
    "\n",
    "#--------ajaxd登录的明文密码----------\n",
    "def password(passwd):\n",
    "    md5(passwd)#进行MD5摘要\n",
    "    \n",
    "def md5(passwd):\n",
    "    hash_md = hashlib.md5(passwd.encode())\n",
    "    input_passwd = hash_md.hexdigest()#输入的md5摘要密码\n",
    "    if init_passwd == input_passwd:\n",
    "        result('OK')\n",
    "    else:\n",
    "        result('Faild')\n",
    "def result(res):\n",
    "    print(res) \n",
    "password('kkkk')\n"
   ]
  },
  {
   "cell_type": "code",
   "execution_count": 62,
   "metadata": {},
   "outputs": [
    {
     "name": "stdout",
     "output_type": "stream",
     "text": [
      "jk\n"
     ]
    }
   ],
   "source": [
    "def jj(num):\n",
    "    return num\n",
    "a = jj('jk')\n",
    "print(a)"
   ]
  },
  {
   "cell_type": "markdown",
   "metadata": {},
   "source": [
    "![](../Photo/70.png)"
   ]
  },
  {
   "cell_type": "markdown",
   "metadata": {},
   "source": [
    "## 带返回值和不带返回值的函数\n",
    "- return 返回的内容\n",
    "- return 返回多个值\n",
    "- 一般情况下，在多个函数协同完成一个功能的时候，那么将会有返回值"
   ]
  },
  {
   "cell_type": "code",
   "execution_count": 42,
   "metadata": {},
   "outputs": [
    {
     "name": "stdout",
     "output_type": "stream",
     "text": [
      "HHHHHHH\n"
     ]
    }
   ],
   "source": [
    "def jj():\n",
    "    return 'HHHHHHH'\n",
    "a = jj()\n",
    "print(a)"
   ]
  },
  {
   "cell_type": "markdown",
   "metadata": {},
   "source": [
    "![](../Photo/71.png)\n",
    "\n",
    "- 当然也可以自定义返回None"
   ]
  },
  {
   "cell_type": "markdown",
   "metadata": {},
   "source": [
    "## EP：\n",
    "![](../Photo/72.png)"
   ]
  },
  {
   "cell_type": "code",
   "execution_count": 78,
   "metadata": {},
   "outputs": [
    {
     "name": "stdout",
     "output_type": "stream",
     "text": [
      "None\n"
     ]
    }
   ],
   "source": [
    "def main():\n",
    "    print(minn(5,6))\n",
    "\n",
    "def minn(n1,n2):\n",
    "    smallest = n1\n",
    "    if n2 < smallest:\n",
    "        smallest = n2\n",
    "main()"
   ]
  },
  {
   "cell_type": "code",
   "execution_count": 79,
   "metadata": {},
   "outputs": [
    {
     "ename": "TypeError",
     "evalue": "'<' not supported between instances of 'tuple' and 'NoneType'",
     "output_type": "error",
     "traceback": [
      "\u001b[1;31m---------------------------------------------------------------------------\u001b[0m",
      "\u001b[1;31mTypeError\u001b[0m                                 Traceback (most recent call last)",
      "\u001b[1;32m<ipython-input-79-df09ed874c1e>\u001b[0m in \u001b[0;36m<module>\u001b[1;34m()\u001b[0m\n\u001b[0;32m      6\u001b[0m     \u001b[1;32mif\u001b[0m \u001b[0mn2\u001b[0m \u001b[1;33m<\u001b[0m \u001b[0msmallest\u001b[0m\u001b[1;33m:\u001b[0m\u001b[1;33m\u001b[0m\u001b[0m\n\u001b[0;32m      7\u001b[0m         \u001b[0msmallest\u001b[0m \u001b[1;33m=\u001b[0m \u001b[0mn2\u001b[0m\u001b[1;33m\u001b[0m\u001b[0m\n\u001b[1;32m----> 8\u001b[1;33m \u001b[0mmain\u001b[0m\u001b[1;33m(\u001b[0m\u001b[1;33m)\u001b[0m\u001b[1;33m\u001b[0m\u001b[0m\n\u001b[0m",
      "\u001b[1;32m<ipython-input-79-df09ed874c1e>\u001b[0m in \u001b[0;36mmain\u001b[1;34m()\u001b[0m\n\u001b[0;32m      1\u001b[0m \u001b[1;32mdef\u001b[0m \u001b[0mmain\u001b[0m\u001b[1;33m(\u001b[0m\u001b[1;33m)\u001b[0m\u001b[1;33m:\u001b[0m\u001b[1;33m\u001b[0m\u001b[0m\n\u001b[1;32m----> 2\u001b[1;33m     \u001b[0mprint\u001b[0m\u001b[1;33m(\u001b[0m\u001b[0mminn\u001b[0m\u001b[1;33m(\u001b[0m\u001b[0mminn\u001b[0m\u001b[1;33m(\u001b[0m\u001b[1;36m5\u001b[0m\u001b[1;33m,\u001b[0m\u001b[1;36m6\u001b[0m\u001b[1;33m)\u001b[0m\u001b[1;33m,\u001b[0m\u001b[1;33m(\u001b[0m\u001b[1;36m51\u001b[0m\u001b[1;33m,\u001b[0m\u001b[1;36m6\u001b[0m\u001b[1;33m)\u001b[0m\u001b[1;33m)\u001b[0m\u001b[1;33m)\u001b[0m\u001b[1;33m\u001b[0m\u001b[0m\n\u001b[0m\u001b[0;32m      3\u001b[0m \u001b[1;33m\u001b[0m\u001b[0m\n\u001b[0;32m      4\u001b[0m \u001b[1;32mdef\u001b[0m \u001b[0mminn\u001b[0m\u001b[1;33m(\u001b[0m\u001b[0mn1\u001b[0m\u001b[1;33m,\u001b[0m\u001b[0mn2\u001b[0m\u001b[1;33m)\u001b[0m\u001b[1;33m:\u001b[0m\u001b[1;33m\u001b[0m\u001b[0m\n\u001b[0;32m      5\u001b[0m     \u001b[0msmallest\u001b[0m \u001b[1;33m=\u001b[0m \u001b[0mn1\u001b[0m\u001b[1;33m\u001b[0m\u001b[0m\n",
      "\u001b[1;32m<ipython-input-79-df09ed874c1e>\u001b[0m in \u001b[0;36mminn\u001b[1;34m(n1, n2)\u001b[0m\n\u001b[0;32m      4\u001b[0m \u001b[1;32mdef\u001b[0m \u001b[0mminn\u001b[0m\u001b[1;33m(\u001b[0m\u001b[0mn1\u001b[0m\u001b[1;33m,\u001b[0m\u001b[0mn2\u001b[0m\u001b[1;33m)\u001b[0m\u001b[1;33m:\u001b[0m\u001b[1;33m\u001b[0m\u001b[0m\n\u001b[0;32m      5\u001b[0m     \u001b[0msmallest\u001b[0m \u001b[1;33m=\u001b[0m \u001b[0mn1\u001b[0m\u001b[1;33m\u001b[0m\u001b[0m\n\u001b[1;32m----> 6\u001b[1;33m     \u001b[1;32mif\u001b[0m \u001b[0mn2\u001b[0m \u001b[1;33m<\u001b[0m \u001b[0msmallest\u001b[0m\u001b[1;33m:\u001b[0m\u001b[1;33m\u001b[0m\u001b[0m\n\u001b[0m\u001b[0;32m      7\u001b[0m         \u001b[0msmallest\u001b[0m \u001b[1;33m=\u001b[0m \u001b[0mn2\u001b[0m\u001b[1;33m\u001b[0m\u001b[0m\n\u001b[0;32m      8\u001b[0m \u001b[0mmain\u001b[0m\u001b[1;33m(\u001b[0m\u001b[1;33m)\u001b[0m\u001b[1;33m\u001b[0m\u001b[0m\n",
      "\u001b[1;31mTypeError\u001b[0m: '<' not supported between instances of 'tuple' and 'NoneType'"
     ]
    }
   ],
   "source": [
    "def main():\n",
    "    print(minn(minn(5,6),(51,6)))\n",
    "\n",
    "def minn(n1,n2):\n",
    "    smallest = n1\n",
    "    if n2 < smallest:\n",
    "        smallest = n2\n",
    "main()"
   ]
  },
  {
   "cell_type": "markdown",
   "metadata": {},
   "source": [
    "## 类型和关键字参数\n",
    "- 普通参数\n",
    "- 多个参数\n",
    "- 默认值参数\n",
    "- 不定长参数"
   ]
  },
  {
   "cell_type": "markdown",
   "metadata": {},
   "source": [
    "## 普通参数"
   ]
  },
  {
   "cell_type": "code",
   "execution_count": null,
   "metadata": {},
   "outputs": [],
   "source": [
    "def fun_1(name):\n",
    "    pass"
   ]
  },
  {
   "cell_type": "markdown",
   "metadata": {},
   "source": [
    "## 多个参数"
   ]
  },
  {
   "cell_type": "code",
   "execution_count": null,
   "metadata": {},
   "outputs": [],
   "source": [
    "def fun_2(name1,name2,......):\n",
    "    pass"
   ]
  },
  {
   "cell_type": "markdown",
   "metadata": {},
   "source": [
    "## 默认值参数"
   ]
  },
  {
   "cell_type": "code",
   "execution_count": 81,
   "metadata": {},
   "outputs": [
    {
     "name": "stdout",
     "output_type": "stream",
     "text": [
      "yyyyy kkkkkkk\n"
     ]
    }
   ],
   "source": [
    "def fun_3(name1 = 'yyyyy',name2 = 'kkkkkkk'):#若中间参数设置默认值  它后面的参数必须要设值默认值\n",
    "    print(name1,name2)\n",
    "fun_3()"
   ]
  },
  {
   "cell_type": "markdown",
   "metadata": {},
   "source": [
    "## 强制命名"
   ]
  },
  {
   "cell_type": "code",
   "execution_count": 85,
   "metadata": {},
   "outputs": [
    {
     "name": "stdout",
     "output_type": "stream",
     "text": [
      "1 3\n"
     ]
    }
   ],
   "source": [
    "def fun_4(name1,*,name2):#*后面的参数传参时必须带上参数名\n",
    "    print(name1,name2)\n",
    "fun_4(1,name2 = 3)"
   ]
  },
  {
   "cell_type": "markdown",
   "metadata": {},
   "source": [
    "## 不定长参数\n",
    "- \\*args\n",
    "> - 不定长，来多少装多少，不装也是可以的\n",
    "  - 返回的数据类型是元组\n",
    "  - args 名字是可以修改的，只是我们约定俗成的是args\n",
    "- \\**kwargs \n",
    "> - 返回的字典\n",
    "  - 输入的一定要是表达式（键值对）"
   ]
  },
  {
   "cell_type": "code",
   "execution_count": 105,
   "metadata": {},
   "outputs": [
    {
     "name": "stdout",
     "output_type": "stream",
     "text": [
      "(1, 2, 3, 4, 5)\n"
     ]
    }
   ],
   "source": [
    "def fun_5(*args):#*+变量名=不定长参数（下水道）来多少处理多少   输出元组\n",
    "    print(args)\n",
    "fun_5(1,2,3,4,5)"
   ]
  },
  {
   "cell_type": "code",
   "execution_count": 95,
   "metadata": {
    "scrolled": true
   },
   "outputs": [
    {
     "name": "stdout",
     "output_type": "stream",
     "text": [
      "1 2 3 4 5 ykykyk\n"
     ]
    }
   ],
   "source": [
    "def fun_6(*args,name):# 传参都赋值给不定长参数，给普通参数赋值时需要强调参数名\n",
    "    print(*args,name)\n",
    "fun_6(1,2,3,4,5,name  = 'ykykyk')"
   ]
  },
  {
   "cell_type": "code",
   "execution_count": 91,
   "metadata": {
    "scrolled": true
   },
   "outputs": [
    {
     "name": "stdout",
     "output_type": "stream",
     "text": [
      "2 3 4 5 1\n"
     ]
    }
   ],
   "source": [
    "def fun_6(name,*args):#默认将第一个参数赋值给  第一个参数   其余的赋值给不定长参数\n",
    "    print(*args,name)\n",
    "fun_6(1,2,3,4,5)"
   ]
  },
  {
   "cell_type": "code",
   "execution_count": 98,
   "metadata": {},
   "outputs": [
    {
     "name": "stdout",
     "output_type": "stream",
     "text": [
      "{'a': 100, 'c': 200}\n"
     ]
    }
   ],
   "source": [
    "def fun_7(**kwargs):\n",
    "    print(kwargs)\n",
    "fun_7(a = 100,c = 200)#输入键值对  输出字典\n",
    "    "
   ]
  },
  {
   "cell_type": "code",
   "execution_count": 102,
   "metadata": {
    "scrolled": true
   },
   "outputs": [
    {
     "data": {
      "text/plain": [
       "[<matplotlib.lines.Line2D at 0xd0422cbb38>]"
      ]
     },
     "execution_count": 102,
     "metadata": {},
     "output_type": "execute_result"
    },
    {
     "data": {
      "image/png": "[encoded data removed]",
      "text/plain": [
       "<matplotlib.figure.Figure at 0xd042056470>"
      ]
     },
     "metadata": {},
     "output_type": "display_data"
    }
   ],
   "source": [
    "import matplotlib.pyplot as plt\n",
    "plt.plot([1,2,3,4,5,6],color = 'red') #color = 'red' == c = 'r'"
   ]
  },
  {
   "cell_type": "code",
   "execution_count": 104,
   "metadata": {},
   "outputs": [
    {
     "name": "stdout",
     "output_type": "stream",
     "text": [
      "(1, 2, 3, 4, 5, 'a')\n",
      "{'a': 100, 'b': 1000}\n"
     ]
    }
   ],
   "source": [
    "def fun_8(*args,**kwargs):#传参时 只能按顺序输入，不能交叉输入，否则出现语法错误\n",
    "    print(args)\n",
    "    print(kwargs)\n",
    "fun_8(1,2,3,4,5,'a',a = 100,b = 1000)"
   ]
  },
  {
   "cell_type": "code",
   "execution_count": null,
   "metadata": {},
   "outputs": [],
   "source": [
    "# 奇偶 ， 回文数 ，质数 ， 水仙花数\n",
    "def fun_9():\n",
    "    "
   ]
  },
  {
   "cell_type": "markdown",
   "metadata": {},
   "source": [
    "## 变量的作用域\n",
    "- 局部变量 local\n",
    "- 全局变量 global\n",
    "- globals 函数返回一个全局变量的字典，包括所有导入的变量\n",
    "- locals() 函数会以字典类型返回当前位置的全部局部变量。"
   ]
  },
  {
   "cell_type": "code",
   "execution_count": 109,
   "metadata": {},
   "outputs": [
    {
     "name": "stdout",
     "output_type": "stream",
     "text": [
      "0\n",
      "0\n"
     ]
    }
   ],
   "source": [
    "a = 1000\n",
    "def fun_10():\n",
    "    global a# 定义全局变量 可改变外面a的值  在赋值的情况下\n",
    "    a = 0\n",
    "    print(a)\n",
    "fun_10()\n",
    "print(a)"
   ]
  },
  {
   "cell_type": "code",
   "execution_count": 112,
   "metadata": {},
   "outputs": [
    {
     "name": "stdout",
     "output_type": "stream",
     "text": [
      "[100]\n"
     ]
    }
   ],
   "source": [
    "list_ = []\n",
    "def fun_11():\n",
    "    list_.append(100)\n",
    "    print(list_)\n",
    "fun_11()"
   ]
  },
  {
   "cell_type": "markdown",
   "metadata": {},
   "source": [
    "## 注意：\n",
    "- global ：在进行赋值操作的时候需要声明\n",
    "- 官方解释：This is because when you make an assignment to a variable in a scope, that variable becomes local to that scope and shadows any similarly named variable in the outer scope.\n",
    "- ![](../Photo/73.png)"
   ]
  },
  {
   "cell_type": "markdown",
   "metadata": {},
   "source": [
    "# Homework\n",
    "- 1\n",
    "![](../Photo/74.png)"
   ]
  },
  {
   "cell_type": "code",
   "execution_count": 119,
   "metadata": {},
   "outputs": [
    {
     "name": "stdout",
     "output_type": "stream",
     "text": [
      "1 5 12 22 35 51 70 92 117 145 \n",
      "176 210 247 287 330 376 425 477 532 590 \n",
      "651 715 782 852 925 1001 1080 1162 1247 1335 \n",
      "1426 1520 1617 1717 1820 1926 2035 2147 2262 2380 \n",
      "2501 2625 2752 2882 3015 3151 3290 3432 3577 3725 \n",
      "3876 4030 4187 4347 4510 4676 4845 5017 5192 5370 \n",
      "5551 5735 5922 6112 6305 6501 6700 6902 7107 7315 \n",
      "7526 7740 7957 8177 8400 8626 8855 9087 9322 9560 \n",
      "9801 10045 10292 10542 10795 11051 11310 11572 11837 12105 \n",
      "12376 12650 12927 13207 13490 13776 14065 14357 14652 14950 \n"
     ]
    }
   ],
   "source": [
    "i = 0\n",
    "def getPentagonalNumber(n):\n",
    "    num = (n * (3 * n - 1)) / 2\n",
    "    return num\n",
    "for j in range(1,101):\n",
    "    a = getPentagonalNumber(j)\n",
    "    print(int(a),end = ' ')\n",
    "    i += 1\n",
    "    if i % 10 == 0:\n",
    "        print('')\n",
    "    "
   ]
  },
  {
   "cell_type": "markdown",
   "metadata": {},
   "source": [
    "- 2 \n",
    "![](../Photo/75.png)"
   ]
  },
  {
   "cell_type": "code",
   "execution_count": 132,
   "metadata": {},
   "outputs": [
    {
     "name": "stdout",
     "output_type": "stream",
     "text": [
      "Enter a number:234\n",
      "9\n"
     ]
    }
   ],
   "source": [
    "def sumDigits(n):\n",
    "    summ = 0\n",
    "    for i in  str(n):\n",
    "        summ += int(i)\n",
    "    print(summ)\n",
    "    \n",
    "num = eval(input('Enter a number:'))\n",
    "sumDigits(num)"
   ]
  },
  {
   "cell_type": "markdown",
   "metadata": {},
   "source": [
    "- 3\n",
    "![](../Photo/76.png)"
   ]
  },
  {
   "cell_type": "code",
   "execution_count": 138,
   "metadata": {},
   "outputs": [
    {
     "name": "stdout",
     "output_type": "stream",
     "text": [
      "Enter three numbers:31,12.4,15\n",
      "The sorted numbers are  12.4 15 31\n"
     ]
    }
   ],
   "source": [
    "def displaySortedNumbers(num1,num2,num3):\n",
    "    max_ = max(num1,num2,num3)\n",
    "    min_ = min(num1,num2,num3)\n",
    "    sum_ = num1 + num2 + num3\n",
    "    mid = int(sum_ - (max_ + min_))\n",
    "    print('The sorted numbers are ',min_,mid,max_)\n",
    "x1,x2,x3 = eval(input('Enter three numbers:'))\n",
    "displaySortedNumbers(x1,x2,x3)"
   ]
  },
  {
   "cell_type": "markdown",
   "metadata": {},
   "source": [
    "- 4\n",
    "![](../Photo/77.png)"
   ]
  },
  {
   "cell_type": "code",
   "execution_count": 39,
   "metadata": {},
   "outputs": [
    {
     "name": "stdout",
     "output_type": "stream",
     "text": [
      "The amount invested:1000\n",
      "Annual interest rate:9\n",
      "Years        Future Value\n",
      "1            1093.81\n",
      "2            1196.41\n",
      "3            1308.65\n",
      "4            1431.41\n",
      "5            1565.68\n",
      "6            1712.55\n",
      "7            1873.2\n",
      "8            2048.92\n",
      "9            2241.12\n",
      "10            2451.36\n",
      "11            2681.31\n",
      "12            2932.84\n",
      "13            3207.96\n",
      "14            3508.89\n",
      "15            3838.04\n",
      "16            4198.08\n",
      "17            4591.89\n",
      "18            5022.64\n",
      "19            5493.8\n",
      "20            6009.15\n",
      "21            6572.85\n",
      "22            7189.43\n",
      "23            7863.85\n",
      "24            8601.53\n",
      "25            9408.41\n",
      "26            10290.99\n",
      "27            11256.35\n",
      "28            12312.28\n",
      "29            13467.25\n",
      "30            14730.58\n"
     ]
    }
   ],
   "source": [
    "import math\n",
    "def futureInverstmentValue(investmentAmount,monthlyInteresRate,years):\n",
    "    f = investmentAmount * math.pow((1 + monthlyInteresRate),years * 12)\n",
    "    return f\n",
    "investAmount = eval(input('The amount invested:'))\n",
    "annnualRate = eval(input('Annual interest rate:'))\n",
    "print('Years        Future Value')\n",
    "for i in range(1,31):\n",
    "    f = futureInverstmentValue(investAmount,annnualRate / (100 * 12),i)\n",
    "    print(i,'          ',round(f,2))"
   ]
  },
  {
   "cell_type": "markdown",
   "metadata": {},
   "source": [
    "- 5\n",
    "![](../Photo/78.png)"
   ]
  },
  {
   "cell_type": "code",
   "execution_count": 185,
   "metadata": {},
   "outputs": [
    {
     "name": "stdout",
     "output_type": "stream",
     "text": [
      "1 2 3 4 5 6 7 8 9 : \n",
      "; < = > ? @ A B C D \n",
      "E F G H I J K L M N \n",
      "O P Q R S T U V W X \n",
      "Y Z "
     ]
    }
   ],
   "source": [
    "summ = 0\n",
    "def printChars(ch1,ch2,numberPerLine):\n",
    "    for i in range(ord(ch1),ord(ch2)+1):\n",
    "        if i == numberPerLine + ord(ch1):\n",
    "            print(chr(i),end = ' ')\n",
    "            global summ\n",
    "            summ += 1\n",
    "            if summ % 10 == 0:\n",
    "                print('')\n",
    "\n",
    "for i in range(0,42):\n",
    "    printChars('1','Z',i)\n",
    "#for i in range(26):\n",
    "#    printChars('a','z',i)\n",
    "#for i in range(26):\n",
    "#    printChars('A','Z',i)\n"
   ]
  },
  {
   "cell_type": "markdown",
   "metadata": {},
   "source": [
    "- 6\n",
    "![](../Photo/79.png)"
   ]
  },
  {
   "cell_type": "code",
   "execution_count": 178,
   "metadata": {},
   "outputs": [
    {
     "name": "stdout",
     "output_type": "stream",
     "text": [
      "2010 have 365 days\n",
      "2011 have 365 days\n",
      "2012 have 366 days\n",
      "2013 have 365 days\n",
      "2014 have 365 days\n",
      "2015 have 365 days\n",
      "2016 have 366 days\n",
      "2017 have 365 days\n",
      "2018 have 365 days\n",
      "2019 have 365 days\n",
      "2020 have 366 days\n"
     ]
    }
   ],
   "source": [
    "def numberOfDaysInAYear(year):\n",
    "    if (year % 4 == 0 and year % 100 != 0) or year % 400 == 0:\n",
    "        print(year,'have 366 days')\n",
    "    else:\n",
    "        print(year,'have 365 days')\n",
    "for i in range(2010,2021):\n",
    "    numberOfDaysInAYear(i)"
   ]
  },
  {
   "cell_type": "markdown",
   "metadata": {},
   "source": [
    "- 7\n",
    "![](../Photo/80.png)"
   ]
  },
  {
   "cell_type": "code",
   "execution_count": 41,
   "metadata": {},
   "outputs": [
    {
     "name": "stdout",
     "output_type": "stream",
     "text": [
      "Enter a point:4,0\n",
      "Enter a point:0,3\n",
      "5.0\n"
     ]
    }
   ],
   "source": [
    "def distance(x1,y1,x2,y2):\n",
    "    dis = ((x1 - x2) ** 2 + (y1 - y2)**2 )**( 1/ 2)\n",
    "    return dis\n",
    "x1,y1 = eval(input('Enter a point:'))\n",
    "x2,y2 = eval(input('Enter a point:'))\n",
    "distance_ = distance(x1,y1,x2,y2)\n",
    "print(distance_)"
   ]
  },
  {
   "cell_type": "markdown",
   "metadata": {},
   "source": [
    "- 8\n",
    "![](../Photo/81.png)"
   ]
  },
  {
   "cell_type": "code",
   "execution_count": 23,
   "metadata": {},
   "outputs": [
    {
     "name": "stdout",
     "output_type": "stream",
     "text": [
      "p          2^p -1\n",
      "2          3\n",
      "3          7\n",
      "5          31\n"
     ]
    }
   ],
   "source": [
    "def meisensushu(p):\n",
    "    for i in range(p+1):\n",
    "        for j in range(2,i):\n",
    "            if i % j == 0:\n",
    "                break\n",
    "        else:\n",
    "            for k in range(2,p + 1):\n",
    "                if i == 2 ** k -1:\n",
    "                    print(k,'        ',i)\n",
    "                    break\n",
    "                    \n",
    "print('p          2^p -1')\n",
    "meisensushu(31)\n"
   ]
  },
  {
   "cell_type": "markdown",
   "metadata": {},
   "source": [
    "- 9\n",
    "![](../Photo/82.png)\n",
    "![](../Photo/83.png)"
   ]
  },
  {
   "cell_type": "code",
   "execution_count": 26,
   "metadata": {},
   "outputs": [
    {
     "name": "stdout",
     "output_type": "stream",
     "text": [
      "Current date and time is  Aug 31,2018 19:25:41\n"
     ]
    }
   ],
   "source": [
    "import time\n",
    "s = time.strftime('%b %d,%Y %H:%M:%S',time.localtime(time.time()))\n",
    "print('Current date and time is ',s)"
   ]
  },
  {
   "cell_type": "markdown",
   "metadata": {},
   "source": [
    "- 10\n",
    "![](../Photo/84.png)"
   ]
  },
  {
   "cell_type": "code",
   "execution_count": 32,
   "metadata": {},
   "outputs": [
    {
     "name": "stdout",
     "output_type": "stream",
     "text": [
      "You rolled 2 + 4 = 6\n",
      "point is 6\n",
      "You rolled 4 + 2 = 6\n",
      "You win\n"
     ]
    }
   ],
   "source": [
    "import random\n",
    "def zhesaizi():\n",
    "    res1 = random.randint(0,6)\n",
    "    res2 = random.randint(0,6)\n",
    "    sum_ = res1 + res2\n",
    "    if sum_ == 3 or sum_ == 12:\n",
    "        print('You rolled',res1,'+',res2,'=',sum_)\n",
    "        print('You lose')\n",
    "    elif sum_ == 7 or sum_== 11:\n",
    "        print('You rolled',res1,'+',res2,'=',sum_)\n",
    "        print('win')\n",
    "    else:  \n",
    "        print('You rolled',res1,'+',res2,'=',sum_)\n",
    "        print('point is',sum_)\n",
    "        liewai(sum_)\n",
    "def liewai(n):\n",
    "    res1 = random.randint(0,6)\n",
    "    res2 = random.randint(0,6)\n",
    "    sum_ = res1 + res2\n",
    "    if sum_ == 7:\n",
    "        print('You rolled',res1,'+',res2,'=',sum_)\n",
    "        print('You lose')\n",
    "    elif sum_ == n:\n",
    "        print('You rolled',res1,'+',res2,'=',sum_)\n",
    "        print('You win')\n",
    "    else:\n",
    "        liewai(n)\n",
    "zhesaizi()"
   ]
  },
  {
   "cell_type": "markdown",
   "metadata": {},
   "source": [
    "- 11 \n",
    "### 去网上寻找如何用Python代码发送邮件"
   ]
  },
  {
   "cell_type": "code",
   "execution_count": null,
   "metadata": {},
   "outputs": [],
   "source": [
    "from email.mime.text import MIMEText#邮件文本转换\n",
    "import smtplib #发送邮件\n",
    "from configparser import *\n",
    "\n",
    "def Send_Email(accept_email,SMTP_server,Sender,password):\n",
    "    print('邮件发送开始...')\n",
    "    #三个参数：第一个为文本内容，第二个设置发送文本格式plain，第三个被文件utf-8设置编码\n",
    "    msg = MIMEText('你以注册成功，请及时验证')#转为邮件文本\n",
    "    msg[\"Subject\"] = \"恭喜你\"#标题\n",
    "    msg[\"From\"] = Sender #发送者\n",
    "    mail_sever = smtplib.SMTP(SMTP_server,25)#链接邮箱端，端口号25\n",
    "    mail_sever.login(Sender,password)#登陆邮箱\n",
    "    email_list = [accept_email]#要发送的邮箱号\n",
    "    for EMAIL in email_list:\n",
    "        mail_sever.sendmail(Sender,EMAIL,msg.as_string())\n",
    "        \n",
    "    mail_sever.quit()#关闭邮箱\n",
    "    print('邮箱发送成功')\n",
    "Send_Email('smtp.163.com','自己的163的邮箱','发送者','自己的163的密码')"
   ]
  }
 ],
 "metadata": {
  "kernelspec": {
   "display_name": "Python 3",
   "language": "python",
   "name": "python3"
  },
  "language_info": {
   "codemirror_mode": {
    "name": "ipython",
    "version": 3
   },
   "file_extension": ".py",
   "mimetype": "text/x-python",
   "name": "python",
   "nbconvert_exporter": "python",
   "pygments_lexer": "ipython3",
   "version": "3.6.4"
  }
 },
 "nbformat": 4,
 "nbformat_minor": 2
}
