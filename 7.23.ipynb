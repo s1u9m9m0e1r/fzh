{
 "cells": [
  {
   "cell_type": "markdown",
   "metadata": {},
   "source": [
    "# 对象和类\n",
    "- 一个学生，一张桌子，一个圆都是对象\n",
    "- 对象是类的一个实例，你可以创建多个对象，创建类的一个实例过程被称为实例化，\n",
    "- 在Python中对象就是实例，而实例就是对象"
   ]
  },
  {
   "cell_type": "markdown",
   "metadata": {},
   "source": [
    "## 定义类\n",
    "class ClassName:\n",
    "\n",
    "    do something\n",
    "    \n",
    "- class 类的表示与def 一样\n",
    "- 类名最好使用驼峰式\n",
    "- 在Python2中类是需要继承基类object的，在Python中默认继承，可写可不写\n",
    "- 可以将普通代码理解为皮肤，而函数可以理解为内衣，那么类可以理解为外套"
   ]
  },
  {
   "cell_type": "markdown",
   "metadata": {},
   "source": [
    "## 定义一个不含初始化__init__的简单类\n",
    "class ClassName:\n",
    "\n",
    "    joker = “Home”\n",
    "    \n",
    "    def func():\n",
    "        print('Worker')\n",
    "    \n",
    "- 尽量少使用"
   ]
  },
  {
   "cell_type": "code",
   "execution_count": 1,
   "metadata": {},
   "outputs": [
    {
     "data": {
      "text/plain": [
       "'home'"
      ]
     },
     "execution_count": 1,
     "metadata": {},
     "output_type": "execute_result"
    }
   ],
   "source": [
    "class ClassName:\n",
    "    yk = 'home'\n",
    "ClassName.yk  ## == ClassName().yk"
   ]
  },
  {
   "cell_type": "code",
   "execution_count": 2,
   "metadata": {},
   "outputs": [
    {
     "name": "stdout",
     "output_type": "stream",
     "text": [
      "Worker\n"
     ]
    }
   ],
   "source": [
    "class ClassName_:\n",
    "    yk = 'home'\n",
    "    def func():\n",
    "        print('Worker')\n",
    "ClassName_.func() ## ClassName_().func()  不能运行，代码错误  只有内中的函数可使用这种形式（函数参数是self）"
   ]
  },
  {
   "cell_type": "markdown",
   "metadata": {},
   "source": [
    "## 定义一个标准类\n",
    "- __init__ 代表初始化，可以初始化任何动作\n",
    "- 此时类调用要使用()，其中（）可以理解为开始初始化\n",
    "- 初始化内的元素，类中其他的函数可以共享\n",
    "![](../Photo/85.png)"
   ]
  },
  {
   "cell_type": "code",
   "execution_count": 6,
   "metadata": {},
   "outputs": [
    {
     "data": {
      "text/plain": [
       "62831.853071795864"
      ]
     },
     "execution_count": 6,
     "metadata": {},
     "output_type": "execute_result"
    }
   ],
   "source": [
    "import math\n",
    "class Circle:\n",
    "    def __init__(self,radius = 1):#初始化，一般在这个初始化内，放入参数\n",
    "        '''\n",
    "        因为在类中，可能有多个函数都需要使用这个参数，所以一定要将这个参数变成通用型\n",
    "        '''\n",
    "        self.radius = radius\n",
    "    def getPerimeter(self):#这里的self代表这个函数是这个类中的\n",
    "        return 2 * self.radius * self.radius * math.pi\n",
    "    def getArea(self):\n",
    "        return self.radius * self.radius * math.pi\n",
    "    def setRadius(self,radius):#自己的一个参数radius\n",
    "        self.radius = radius\n",
    "Circle(radius=100).getPerimeter()"
   ]
  },
  {
   "cell_type": "code",
   "execution_count": 29,
   "metadata": {},
   "outputs": [
    {
     "name": "stdout",
     "output_type": "stream",
     "text": [
      "3   素数\n"
     ]
    }
   ],
   "source": [
    "class class_jiou:\n",
    "    def  __init__(self,shu =1 ):\n",
    "        self.shu = shu\n",
    "    def fun_jiou(self):\n",
    "        if self.shu % 2 == 0:\n",
    "            print(self.shu,' 偶数')\n",
    "        else:\n",
    "            print(self.shu,' 奇数')    \n",
    "    def fun_su(self):\n",
    "        if self.shu == 2:\n",
    "             print(self.shu,'  素数')\n",
    "        for i in range(2,self.shu):\n",
    "            if self.shu % i == 0:\n",
    "                print(self.shu,'  不是素数')\n",
    "                break\n",
    "            if i == self.shu - 1:\n",
    "                print(self.shu,'  素数')\n",
    "    def fun_chengfabiao(self):\n",
    "        for i in range(1,10):\n",
    "            for j in range(1,i+1):\n",
    "                print(j,'*',i,'=',i * j,end = ' ')\n",
    "            print('')\n",
    "class_jiou(3).fun_su()"
   ]
  },
  {
   "cell_type": "code",
   "execution_count": 37,
   "metadata": {},
   "outputs": [
    {
     "name": "stdout",
     "output_type": "stream",
     "text": [
      "10000\n"
     ]
    }
   ],
   "source": [
    "class class_he:\n",
    "    def __init__(self,num):\n",
    "        self.num = num\n",
    "    def fun_zijia(self):\n",
    "        self.num += 1\n",
    "        return self.num\n",
    "    def fun_cheng(self):\n",
    "        self.num *= self.num\n",
    "        return self.num\n",
    "num = class_he(0)\n",
    "for i in range(100):\n",
    "    num.fun_zijia()\n",
    "ji = num.fun_cheng()\n",
    "print(ji)\n"
   ]
  },
  {
   "cell_type": "markdown",
   "metadata": {},
   "source": [
    "## 何为self？\n",
    "- self 是指向对象本身的参数\n",
    "- self 只是一个命名规则，其实可以改变的，但是我们约定俗成的是self，也便于理解\n",
    "- 使用了self就可以访问类中定义的成员\n",
    "<img src=\"../Photo/86.png\"></img>"
   ]
  },
  {
   "cell_type": "markdown",
   "metadata": {},
   "source": [
    "## 使用类 Cirlcle"
   ]
  },
  {
   "cell_type": "markdown",
   "metadata": {},
   "source": [
    "## 类的传参\n",
    "- class ClassName:\n",
    "    \n",
    "        def __init__(self, para1,para2...)：\n",
    "            \n",
    "            self.para1 = para1\n",
    "            \n",
    "            self.para2 = para2"
   ]
  },
  {
   "cell_type": "markdown",
   "metadata": {},
   "source": [
    "## EP:\n",
    "- A：定义一个类，类中含有两个功能：\n",
    "    - 1、计算随机数的最大值\n",
    "    - 2、计算随机数的最小值\n",
    "- B：定义一个类，（类中函数的嵌套使用）\n",
    "    - 1、第一个函数的功能为：输入一个数字\n",
    "    - 2、第二个函数的功能为：使用第一个函数中得到的数字进行平方处理\n",
    "    - 3、第三个函数的功能为：得到平方处理后的数字 - 原来输入的数字，并打印结果"
   ]
  },
  {
   "cell_type": "markdown",
   "metadata": {},
   "source": [
    "## 类的继承\n",
    "- 类的单继承\n",
    "- 类的多继承\n",
    "- 继承标识\n",
    ">  class SonClass(FatherClass):\n",
    "            \n",
    "            def __init__(self):\n",
    "            \n",
    "                FatherClass.__init__(self)"
   ]
  },
  {
   "cell_type": "code",
   "execution_count": 38,
   "metadata": {},
   "outputs": [
    {
     "name": "stdout",
     "output_type": "stream",
     "text": [
      "123  奇数\n"
     ]
    }
   ],
   "source": [
    "class class_chuangcan:\n",
    "    def __init__(self):\n",
    "        self.num = 123\n",
    "class class_panduan(class_chuangcan):#告诉python  子类马上要继承父类\n",
    "    def __init__(self):\n",
    "        class_chuangcan.__init__(self)#告诉父类，子类继承父类\n",
    "    def fun_jiou(self):\n",
    "        if self.num % 2 == 0:\n",
    "            print(self.num,' 偶数')\n",
    "        else:\n",
    "            print(self.num,' 奇数')        \n",
    "A = class_panduan()\n",
    "A.fun_jiou()"
   ]
  },
  {
   "cell_type": "markdown",
   "metadata": {},
   "source": [
    "## 私有数据域(私有变量，或者私有函数)\n",
    "- 在Python中 变量名或者函数名使用双下划线代表私有  \\__Joker,   def \\__Joker():\n",
    "- 私有数据域不可继承\n",
    "- 私有数据域强制继承   \\__dir__()"
   ]
  },
  {
   "cell_type": "markdown",
   "metadata": {},
   "source": [
    "![](../Photo/87.png)"
   ]
  },
  {
   "cell_type": "markdown",
   "metadata": {},
   "source": [
    "## EP:\n",
    "![](../Photo/88.png)\n",
    "![](../Photo/89.png)\n",
    "![](../Photo/90.png)\n"
   ]
  },
  {
   "cell_type": "markdown",
   "metadata": {},
   "source": [
    "## 类的其他\n",
    "- 类的封装\n",
    "    - 实际上就是将一类功能放在一起，方便未来进行管理\n",
    "- 类的继承（上面已经讲过）\n",
    "- 类的多态\n",
    "    - 包括装饰器：将放在以后处理高级类中教\n",
    "    - 装饰器的好处：当许多类中的函数需要使用同一个功能的时候，那么使用装饰器就会方便许多\n",
    "    - 装饰器是有固定的写法\n",
    "        - 其包括普通装饰器与带参装饰器"
   ]
  },
  {
   "cell_type": "markdown",
   "metadata": {},
   "source": [
    "# Homewor\n",
    "## UML类图可以不用画\n",
    "## UML 实际上就是一个思维图\n",
    "- 1\n",
    "![](../Photo/91.png)"
   ]
  },
  {
   "cell_type": "code",
   "execution_count": 46,
   "metadata": {},
   "outputs": [
    {
     "name": "stdout",
     "output_type": "stream",
     "text": [
      "这个矩阵的宽 4 长 40 面积 160 周长 88\n",
      "这个矩阵的宽 3.5 长 35.7 面积 124.95 周长 78.4\n"
     ]
    }
   ],
   "source": [
    "class Rectangle:\n",
    "    def __init__(self,width,height):\n",
    "        self.width = width\n",
    "        self.height = height\n",
    "    def getArea(self):\n",
    "        return self.width * self.height\n",
    "    def getPerimeter(self):\n",
    "        return (self.width + self.height) * 2\n",
    "    def getwh(self):\n",
    "        print('这个矩阵的宽',self.width,'长',self.height,end = ' ')\n",
    "A = Rectangle(4,40)\n",
    "B = Rectangle(3.5,35.7)\n",
    "A.getwh()\n",
    "print('面积',A.getArea(),'周长',A.getPerimeter())\n",
    "B.getwh()\n",
    "print('面积',round(B.getArea(),2),'周长',B.getPerimeter())"
   ]
  },
  {
   "cell_type": "markdown",
   "metadata": {},
   "source": [
    "- 2\n",
    "![](../Photo/92.png)"
   ]
  },
  {
   "cell_type": "code",
   "execution_count": 61,
   "metadata": {},
   "outputs": [
    {
     "name": "stdout",
     "output_type": "stream",
     "text": [
      "id =  1122 balance =  20500 MonthlyInterestRate =  0.00375 getMonthlyInterest =  76.875\n"
     ]
    }
   ],
   "source": [
    "class Account:\n",
    "    def __init__(self,Id = 0,balance = 100,annualInterestRate = 0):\n",
    "        self.__Id = Id\n",
    "        self.__balance = balance\n",
    "        self.__annualInterestRate = annualInterestRate\n",
    "    def getMonthlyInterestRate(self):\n",
    "        return self.__annualInterestRate / 12 / 100\n",
    "    def getMonthlyInterest(self):\n",
    "        return self.__balance * (self.__annualInterestRate / 12 / 100)\n",
    "    def withdraw(self,num):\n",
    "        self.__balance -= num\n",
    "    def deposit(self,num):\n",
    "        self.__balance += num\n",
    "    def pri(self):\n",
    "        print('id = ',self.__Id,'balance = ',self.__balance,end = ' ')\n",
    "A = Account(1122,20000,4.5)\n",
    "A.withdraw(2500)\n",
    "A.deposit(3000)\n",
    "A.pri()\n",
    "print('MonthlyInterestRate = ',A.getMonthlyInterestRate(),'getMonthlyInterest = ',A.getMonthlyInterest())"
   ]
  },
  {
   "cell_type": "markdown",
   "metadata": {},
   "source": [
    "- 3\n",
    "![](../Photo/93.png)"
   ]
  },
  {
   "cell_type": "code",
   "execution_count": 66,
   "metadata": {},
   "outputs": [
    {
     "name": "stdout",
     "output_type": "stream",
     "text": [
      "FAST 10 yellow True\n",
      "MEDIUM 5 blue False\n"
     ]
    }
   ],
   "source": [
    "class Fan():\n",
    "    def __init__(self,speed = 1,radius = 5,color = 'blue',on = False):\n",
    "        self.__speed = speed\n",
    "        self.__on = on\n",
    "        self.__radius = radius\n",
    "        self.__color = color\n",
    "    def fun_speed(self):\n",
    "        if self.__speed == 1:\n",
    "            print('SLOW',self.__radius,self.__color,self.__on)\n",
    "        elif self.__speed == 2:\n",
    "            print('MEDIUM',self.__radius,self.__color,self.__on) \n",
    "        else:\n",
    "             print('FAST',self.__radius,self.__color,self.__on)  \n",
    "Fan(3,10,'yellow',True).fun_speed()\n",
    "Fan(2,5).fun_speed()"
   ]
  },
  {
   "cell_type": "markdown",
   "metadata": {},
   "source": [
    "- 4\n",
    "![](../Photo/94.png)\n",
    "![](../Photo/95.png)"
   ]
  },
  {
   "cell_type": "code",
   "execution_count": 69,
   "metadata": {},
   "outputs": [
    {
     "name": "stdout",
     "output_type": "stream",
     "text": [
      "周长 =  3 面积 =  0.433\n",
      "周长 =  24 面积 =  41.569\n",
      "周长 =  40 面积 =  123.107\n"
     ]
    }
   ],
   "source": [
    "import math\n",
    "class RegularPolygin:\n",
    "    def __init__(self,n =3,side = 1,x = 0,y = 0):\n",
    "        self.__n = n\n",
    "        self.__side = side \n",
    "        self.__x = x\n",
    "        self.__y = y\n",
    "    def getPerimeter(self):\n",
    "        return self.__n * self.__side\n",
    "    def getArea(self):\n",
    "        return (self.__n * self.__side ** 2) / (4 * math.tan (math.pi / self.__n))\n",
    "A = RegularPolygin()\n",
    "print('周长 = ',A.getPerimeter(),'面积 = ',round(A.getArea(),3))\n",
    "B = RegularPolygin(6,4)\n",
    "print('周长 = ',B.getPerimeter(),'面积 = ',round(B.getArea(),3))\n",
    "C = RegularPolygin(10,4,5.6,7.8)\n",
    "print('周长 = ',C.getPerimeter(),'面积 = ',round(C.getArea(),3))"
   ]
  },
  {
   "cell_type": "markdown",
   "metadata": {},
   "source": [
    "- 5\n",
    "![](../Photo/96.png)"
   ]
  },
  {
   "cell_type": "code",
   "execution_count": 84,
   "metadata": {},
   "outputs": [
    {
     "name": "stdout",
     "output_type": "stream",
     "text": [
      "x =  1.0 y =  1.0\n"
     ]
    }
   ],
   "source": [
    "class LinearEquation:\n",
    "    def __init__(self,a,b,c,d,e,f):\n",
    "        self.__a = a\n",
    "        self.__b = b\n",
    "        self.__c = c\n",
    "        self.__d = d\n",
    "        self.__e = e\n",
    "        self.__f = f\n",
    "    def isSolvable(self):\n",
    "        if self.__a * self.__d - self.__b * self.__c == 0:\n",
    "            return False\n",
    "        else:\n",
    "            return True\n",
    "    def getX(self):\n",
    "        return (self.__e * self.__d - self.__b * self.__f) / (self.__a * self.__d - self.__b * self.__c)\n",
    "    def getY(self):\n",
    "        return (self.__a * self.__f - self.__e * self.__c) / (self.__a * self.__d - self.__b * self.__c)\n",
    "A = LinearEquation(1,1,1,-1,2,0)\n",
    "if A.isSolvable:\n",
    "    print('x = ',A.getX(),'y = ',A.getY())\n",
    "else:\n",
    "    print('这个方程式无解')"
   ]
  },
  {
   "cell_type": "markdown",
   "metadata": {},
   "source": [
    "- 6\n",
    "![](../Photo/97.png)"
   ]
  },
  {
   "cell_type": "code",
   "execution_count": 76,
   "metadata": {},
   "outputs": [
    {
     "name": "stdout",
     "output_type": "stream",
     "text": [
      "Enter the endpoints of the first line segment:2.0,2.0,0,0\n",
      "Enter the endpoints of the second line segment:0,2.0,2.0,0\n",
      "The intersecting point is :( 1.0 1.0 )\n"
     ]
    }
   ],
   "source": [
    "class LinearEquation:  \n",
    "    def __init__(self,x1,y1,x2,y2,x3,y3,x4,y4):\n",
    "        self.x1 = x1\n",
    "        self.y1 = y1\n",
    "        self.x2 = x2\n",
    "        self.y2 = y2\n",
    "        self.x3 = x3\n",
    "        self.y3 = y3\n",
    "        self.x4 = x4\n",
    "        self.y4 = y4\n",
    "    def findPoint(self):\n",
    "        k1 = (self.y2 - self.y1) / (self.x2 - self.x1)\n",
    "        b1 = self.y1 - k1 * self.x1\n",
    "        if (x4-x3)==0:\n",
    "            k2=None\n",
    "            b2=0\n",
    "        else:\n",
    "            k2=(self.y4 - self.y3) / (self.x4 - self.x3)\n",
    "            b2=self.y3 - self.x3 * k2\n",
    "        if k2==None:\n",
    "            x = self.x3\n",
    "        else:\n",
    "            x = ( b2 - b1) / (k1 - k2)\n",
    "        y =  k1* x + b1\n",
    "        print('The intersecting point is :(',x,y,')')\n",
    "x1,y1,x2,y2 = eval(input('Enter the endpoints of the first line segment:'))\n",
    "x3,y3,x4,y4 = eval(input('Enter the endpoints of the second line segment:'))\n",
    "LinearEquation(x1,y1,x2,y2,x3,y3,x4,y4).findPoint()"
   ]
  },
  {
   "cell_type": "markdown",
   "metadata": {},
   "source": [
    "- 7\n",
    "![](../Photo/98.png)"
   ]
  },
  {
   "cell_type": "markdown",
   "metadata": {},
   "source": [
    "- 8 进阶\n",
    "- 定义一个子类，一个父类\n",
    "    - 父类产生随机数\n",
    "    - 子类一直判定该随机数是奇数还是偶数\n",
    "        - 该例子实际上就是一个粗浅的分布式"
   ]
  },
  {
   "cell_type": "code",
   "execution_count": 72,
   "metadata": {},
   "outputs": [
    {
     "name": "stdout",
     "output_type": "stream",
     "text": [
      "49 是奇数\n"
     ]
    }
   ],
   "source": [
    "import random\n",
    "class farther:\n",
    "    def __init__(self):\n",
    "        self.num = random.randint(1,100)\n",
    "class son(farther):\n",
    "    def __init__(self):\n",
    "        farther.__init__(self)\n",
    "    def fun_jiou(self):\n",
    "        if self.num % 2 == 0:\n",
    "            print(self.num,'是偶数')\n",
    "        else:\n",
    "            print(self.num,'是奇数')\n",
    "A = son()\n",
    "A.fun_jiou()"
   ]
  }
 ],
 "metadata": {
  "kernelspec": {
   "display_name": "Python 3",
   "language": "python",
   "name": "python3"
  },
  "language_info": {
   "codemirror_mode": {
    "name": "ipython",
    "version": 3
   },
   "file_extension": ".py",
   "mimetype": "text/x-python",
   "name": "python",
   "nbconvert_exporter": "python",
   "pygments_lexer": "ipython3",
   "version": "3.6.4"
  }
 },
 "nbformat": 4,
 "nbformat_minor": 2
}
