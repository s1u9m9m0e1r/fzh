{
 "cells": [
  {
   "cell_type": "markdown",
   "metadata": {},
   "source": [
    "# 列表List\n",
    "- 一个列表可以储存任意大小的数据集合，你可以理解为他是一个容器"
   ]
  },
  {
   "cell_type": "markdown",
   "metadata": {},
   "source": [
    "## 先来一个例子爽一爽\n",
    "![](../Photo/115.png)"
   ]
  },
  {
   "cell_type": "code",
   "execution_count": null,
   "metadata": {},
   "outputs": [],
   "source": [
    "num = 5\n",
    "numbers = []  \n",
    "summ = 0\n",
    "\n",
    "for i in range(num):\n",
    "    value = eval(input('Enter a new number:'))\n",
    "    numbers.append(value)\n",
    "    summ += value\n",
    "average = summ / num\n",
    "\n",
    "count = 0\n",
    "for i in range(num):\n",
    "    count += (numbers[i] - average) ** 2\n",
    "fangca = count / (num - 1)\n",
    "biaozhunca = fangca ** (1 / 2)\n",
    "print('Average is',average,'fangca',fangca,'biaozhunca',biaozhunca)"
   ]
  },
  {
   "cell_type": "code",
   "execution_count": 7,
   "metadata": {
    "scrolled": true
   },
   "outputs": [
    {
     "data": {
      "text/plain": [
       "[0, 2, 4, 6, 8]"
      ]
     },
     "execution_count": 7,
     "metadata": {},
     "output_type": "execute_result"
    }
   ],
   "source": [
    "[x for x in range(10)  if x % 2 == 0] "
   ]
  },
  {
   "cell_type": "code",
   "execution_count": 8,
   "metadata": {},
   "outputs": [
    {
     "data": {
      "text/plain": [
       "False"
      ]
     },
     "execution_count": 8,
     "metadata": {},
     "output_type": "execute_result"
    }
   ],
   "source": [
    "a = [10,90,20,303]\n",
    "90 not in a"
   ]
  },
  {
   "cell_type": "code",
   "execution_count": 9,
   "metadata": {},
   "outputs": [
    {
     "data": {
      "text/plain": [
       "[10, 90, 20, 303, 33, 44, 55, 66, 77]"
      ]
     },
     "execution_count": 9,
     "metadata": {},
     "output_type": "execute_result"
    }
   ],
   "source": [
    "b = [33,44,55,66,77]\n",
    "a + b"
   ]
  },
  {
   "cell_type": "markdown",
   "metadata": {},
   "source": [
    "## 创建一个列表\n",
    "- a = [1,2,3,4,5]"
   ]
  },
  {
   "cell_type": "markdown",
   "metadata": {},
   "source": [
    "## 列表的一般操作\n",
    "![](../Photo/116.png)"
   ]
  },
  {
   "cell_type": "code",
   "execution_count": 10,
   "metadata": {},
   "outputs": [
    {
     "name": "stdout",
     "output_type": "stream",
     "text": [
      "10\n",
      "90\n",
      "20\n",
      "303\n"
     ]
    }
   ],
   "source": [
    "for i in a:\n",
    "    print(i)"
   ]
  },
  {
   "cell_type": "code",
   "execution_count": 11,
   "metadata": {},
   "outputs": [
    {
     "name": "stdout",
     "output_type": "stream",
     "text": [
      "10\n",
      "90\n",
      "20\n",
      "303\n"
     ]
    }
   ],
   "source": [
    "i = 0\n",
    "while i < len(a):\n",
    "    print(a[i])\n",
    "    i += 1"
   ]
  },
  {
   "cell_type": "markdown",
   "metadata": {},
   "source": [
    "## 列表索引操作\n",
    "- Mylist[index]\n",
    "- 正序索引，逆序索引\n",
    "- 列表一定注意越界\n",
    "- ![](../Photo/117.png)"
   ]
  },
  {
   "cell_type": "code",
   "execution_count": 15,
   "metadata": {},
   "outputs": [
    {
     "data": {
      "text/plain": [
       "[2, 3]"
      ]
     },
     "execution_count": 15,
     "metadata": {},
     "output_type": "execute_result"
    }
   ],
   "source": [
    "c = [1.0,2,3,4,6]\n",
    "c[-4:-2]"
   ]
  },
  {
   "cell_type": "code",
   "execution_count": 16,
   "metadata": {},
   "outputs": [
    {
     "data": {
      "text/plain": [
       "[1.0, 3]"
      ]
     },
     "execution_count": 16,
     "metadata": {},
     "output_type": "execute_result"
    }
   ],
   "source": [
    "c[0:-1:2]#取不到-1（最后一位）"
   ]
  },
  {
   "cell_type": "markdown",
   "metadata": {},
   "source": [
    "## 列表切片操作\n",
    "- Mylist[start:end]\n",
    "- 正序切片，逆序切片"
   ]
  },
  {
   "cell_type": "markdown",
   "metadata": {},
   "source": [
    "## 列表 +、*、in 、not in"
   ]
  },
  {
   "cell_type": "markdown",
   "metadata": {},
   "source": [
    "## 使用for循环遍历元素\n",
    "- for 循环可以遍历一切可迭代元素"
   ]
  },
  {
   "cell_type": "markdown",
   "metadata": {},
   "source": [
    "## EP：\n",
    "- 使用while 循环遍历列表"
   ]
  },
  {
   "cell_type": "markdown",
   "metadata": {},
   "source": [
    "## 列表的比较\n",
    "- \\>,<,>=,<=,==,!="
   ]
  },
  {
   "cell_type": "markdown",
   "metadata": {},
   "source": [
    "## 列表生成式\n",
    "[x for x in range(10)]"
   ]
  },
  {
   "cell_type": "code",
   "execution_count": 19,
   "metadata": {},
   "outputs": [
    {
     "data": {
      "text/plain": [
       "[0, 1, 2, 3, 4, 5, 6, 7, 8, 9]"
      ]
     },
     "execution_count": 19,
     "metadata": {},
     "output_type": "execute_result"
    }
   ],
   "source": [
    "d = [x for x in range(10)]\n",
    "d"
   ]
  },
  {
   "cell_type": "code",
   "execution_count": 33,
   "metadata": {},
   "outputs": [
    {
     "data": {
      "text/plain": [
       "0"
      ]
     },
     "execution_count": 33,
     "metadata": {},
     "output_type": "execute_result"
    }
   ],
   "source": [
    "d1 = (x for x in range(10))#节约内存\n",
    "next(d1)"
   ]
  },
  {
   "cell_type": "markdown",
   "metadata": {},
   "source": [
    "## 列表的方法\n",
    "![](../Photo/118.png)"
   ]
  },
  {
   "cell_type": "code",
   "execution_count": 35,
   "metadata": {},
   "outputs": [
    {
     "data": {
      "text/plain": [
       "[1, 2, 3, 4, [100, 20, 30, [2, 3, 4], True, 1.0, 'a']]"
      ]
     },
     "execution_count": 35,
     "metadata": {},
     "output_type": "execute_result"
    }
   ],
   "source": [
    "f = [1,2,3,4]\n",
    "f.append([100,20,30,[2,3,4],True,1.0,'a'])\n",
    "f"
   ]
  },
  {
   "cell_type": "code",
   "execution_count": 36,
   "metadata": {},
   "outputs": [
    {
     "data": {
      "text/plain": [
       "1"
      ]
     },
     "execution_count": 36,
     "metadata": {},
     "output_type": "execute_result"
    }
   ],
   "source": [
    "f.count(4)"
   ]
  },
  {
   "cell_type": "code",
   "execution_count": 37,
   "metadata": {},
   "outputs": [
    {
     "data": {
      "text/plain": [
       "[1, 2, 3, 4, [100, 20, 30, [2, 3, 4], True, 1.0, 'a'], 1, 2, 3]"
      ]
     },
     "execution_count": 37,
     "metadata": {},
     "output_type": "execute_result"
    }
   ],
   "source": [
    "f.extend([1,2,3])#相当于 +\n",
    "f"
   ]
  },
  {
   "cell_type": "code",
   "execution_count": 39,
   "metadata": {},
   "outputs": [
    {
     "data": {
      "text/plain": [
       "3"
      ]
     },
     "execution_count": 39,
     "metadata": {},
     "output_type": "execute_result"
    }
   ],
   "source": [
    "f.index(4)#返回查询的下标"
   ]
  },
  {
   "cell_type": "code",
   "execution_count": 40,
   "metadata": {},
   "outputs": [
    {
     "data": {
      "text/plain": [
       "[1000, 1, 2, 3, 4, [100, 20, 30, [2, 3, 4], True, 1.0, 'a'], 1, 2, 3]"
      ]
     },
     "execution_count": 40,
     "metadata": {},
     "output_type": "execute_result"
    }
   ],
   "source": [
    "f.insert(0,1000)#在指定位插入\n",
    "f"
   ]
  },
  {
   "cell_type": "code",
   "execution_count": 42,
   "metadata": {
    "scrolled": true
   },
   "outputs": [
    {
     "data": {
      "text/plain": [
       "1000"
      ]
     },
     "execution_count": 42,
     "metadata": {},
     "output_type": "execute_result"
    }
   ],
   "source": [
    "f.pop(0)#删除"
   ]
  },
  {
   "cell_type": "code",
   "execution_count": 43,
   "metadata": {},
   "outputs": [
    {
     "data": {
      "text/plain": [
       "[1, 2, 3, 4, [100, 20, 30, [2, 3, 4], True, 1.0, 'a'], 1, 2, 3]"
      ]
     },
     "execution_count": 43,
     "metadata": {},
     "output_type": "execute_result"
    }
   ],
   "source": [
    "f"
   ]
  },
  {
   "cell_type": "code",
   "execution_count": 44,
   "metadata": {},
   "outputs": [
    {
     "data": {
      "text/plain": [
       "[3, 2, 1, [100, 20, 30, [2, 3, 4], True, 1.0, 'a'], 4, 3, 2, 1]"
      ]
     },
     "execution_count": 44,
     "metadata": {},
     "output_type": "execute_result"
    }
   ],
   "source": [
    "f.reverse()\n",
    "f"
   ]
  },
  {
   "cell_type": "code",
   "execution_count": 46,
   "metadata": {},
   "outputs": [
    {
     "data": {
      "text/plain": [
       "[10, 20, 90, 303]"
      ]
     },
     "execution_count": 46,
     "metadata": {},
     "output_type": "execute_result"
    }
   ],
   "source": [
    "a.sort()#返回新列表 ， sorted（） 返回原列表  *强制命名\n",
    "a"
   ]
  },
  {
   "cell_type": "code",
   "execution_count": 49,
   "metadata": {},
   "outputs": [],
   "source": [
    "f1 = [['Joker',19],['lala',80],['caoyuan',5]]"
   ]
  },
  {
   "cell_type": "code",
   "execution_count": 48,
   "metadata": {},
   "outputs": [
    {
     "data": {
      "text/plain": [
       "[['Joker', 19], ['caoyuan', 5], ['lala', 80]]"
      ]
     },
     "execution_count": 48,
     "metadata": {},
     "output_type": "execute_result"
    }
   ],
   "source": [
    "f1.sort()\n",
    "f1"
   ]
  },
  {
   "cell_type": "code",
   "execution_count": 51,
   "metadata": {},
   "outputs": [
    {
     "data": {
      "text/plain": [
       "[['lala', 80], ['Joker', 19], ['caoyuan', 5]]"
      ]
     },
     "execution_count": 51,
     "metadata": {},
     "output_type": "execute_result"
    }
   ],
   "source": [
    "f1.sort(key = lambda x:x[1],reverse = True)#lambda是python中的匿名函数\n",
    "f1"
   ]
  },
  {
   "cell_type": "code",
   "execution_count": 66,
   "metadata": {},
   "outputs": [],
   "source": [
    "f2 = [['Joker',['Shuaishuai',0],19],['lala',['meimei',-1],80],['caoyuan',['yuanyuan',8],5]]"
   ]
  },
  {
   "cell_type": "code",
   "execution_count": 67,
   "metadata": {},
   "outputs": [
    {
     "data": {
      "text/plain": [
       "[['lala', ['meimei', -1], 80],\n",
       " ['Joker', ['Shuaishuai', 0], 19],\n",
       " ['caoyuan', ['yuanyuan', 8], 5]]"
      ]
     },
     "execution_count": 67,
     "metadata": {},
     "output_type": "execute_result"
    }
   ],
   "source": [
    "f2.sort(key = lambda x:x[1][1])\n",
    "f2"
   ]
  },
  {
   "cell_type": "code",
   "execution_count": 68,
   "metadata": {},
   "outputs": [
    {
     "data": {
      "text/plain": [
       "[['Joker', ['Shuaishuai', 0], 19],\n",
       " ['lala', ['meimei', -1], 80],\n",
       " ['caoyuan', ['yuanyuan', 8], 5]]"
      ]
     },
     "execution_count": 68,
     "metadata": {},
     "output_type": "execute_result"
    }
   ],
   "source": [
    "f2.sort(key = lambda x:x[1][0])\n",
    "f2"
   ]
  },
  {
   "cell_type": "markdown",
   "metadata": {},
   "source": [
    "## 将字符串分割成列表\n",
    "- split  按照自定义的内容拆分"
   ]
  },
  {
   "cell_type": "code",
   "execution_count": 73,
   "metadata": {},
   "outputs": [
    {
     "data": {
      "text/plain": [
       "['ab', 'd']"
      ]
     },
     "execution_count": 73,
     "metadata": {},
     "output_type": "execute_result"
    }
   ],
   "source": [
    "e = 'abcd'\n",
    "e.split('c')"
   ]
  },
  {
   "cell_type": "markdown",
   "metadata": {},
   "source": [
    "## EP:\n",
    "![](../Photo/119.png)\n",
    "![](../Photo/120.png)"
   ]
  },
  {
   "cell_type": "code",
   "execution_count": 71,
   "metadata": {},
   "outputs": [],
   "source": [
    "import random\n",
    "a = [1,2,3,4,5,6,7,8]\n",
    "random.shuffle(a,random = random.random)#随机打乱顺序"
   ]
  },
  {
   "cell_type": "code",
   "execution_count": 72,
   "metadata": {},
   "outputs": [
    {
     "data": {
      "text/plain": [
       "[2, 4, 3, 5, 6, 1, 8, 7]"
      ]
     },
     "execution_count": 72,
     "metadata": {},
     "output_type": "execute_result"
    }
   ],
   "source": [
    "a"
   ]
  },
  {
   "cell_type": "markdown",
   "metadata": {},
   "source": [
    "## 列表的复制\n",
    "- copy 浅复制\n",
    "- deepcopy import copy  深复制\n",
    "- http://www.pythontutor.com/visualize.html#mode=edit"
   ]
  },
  {
   "cell_type": "code",
   "execution_count": 76,
   "metadata": {},
   "outputs": [
    {
     "name": "stdout",
     "output_type": "stream",
     "text": [
      "[100, 2] [100, 2]\n"
     ]
    }
   ],
   "source": [
    "list1 = [1,2]\n",
    "list2 = list1#指针指向list1的存储位置，同一个内容\n",
    "list1[0] = 100\n",
    "print(list1,list2)"
   ]
  },
  {
   "cell_type": "code",
   "execution_count": 79,
   "metadata": {},
   "outputs": [
    {
     "name": "stdout",
     "output_type": "stream",
     "text": [
      "[100, 2, 3] [1, 2, 3]\n"
     ]
    }
   ],
   "source": [
    "list1 = [1,2,3]\n",
    "list2 = list1.copy() #新建的列表list2复制list1中的内容\n",
    "list1[0] = 100\n",
    "print(list1,list2)"
   ]
  },
  {
   "cell_type": "code",
   "execution_count": 81,
   "metadata": {},
   "outputs": [
    {
     "name": "stdout",
     "output_type": "stream",
     "text": [
      "[100, 2, [3, 5]] [1, 2, [3, 5]]\n"
     ]
    }
   ],
   "source": [
    "from copy import deepcopy#重列表的复制应用deepcopy 完整复制\n",
    "list1 = [1,2,[3,5]]\n",
    "list2 = deepcopy(list1)\n",
    "list1[0] = 100\n",
    "print(list1,list2)"
   ]
  },
  {
   "cell_type": "markdown",
   "metadata": {},
   "source": [
    "## 列表排序\n",
    "- sort\n",
    "- sorted\n",
    "- 列表的多级排序\n",
    "    - 匿名函数"
   ]
  },
  {
   "cell_type": "markdown",
   "metadata": {},
   "source": [
    "## EP：\n",
    "- 手动排序该列表[5,3,8,0,17]，以升序或者降序"
   ]
  },
  {
   "cell_type": "markdown",
   "metadata": {},
   "source": [
    "- 1\n",
    "![](../Photo/121.png)"
   ]
  },
  {
   "cell_type": "code",
   "execution_count": 3,
   "metadata": {
    "scrolled": true
   },
   "outputs": [
    {
     "name": "stdout",
     "output_type": "stream",
     "text": [
      "Enter scores:40 55 70 58\n",
      "Student 0 score is 40 and grande is C\n",
      "Student 0 score is 55 and grande is B\n",
      "Student 0 score is 70 and grande is A\n",
      "Student 0 score is 58 and grande is B\n"
     ]
    }
   ],
   "source": [
    "a = input('Enter scores:')\n",
    "grede = a.split(' ')\n",
    "best = int(max(grede))\n",
    "for i in range(len(grede)):\n",
    "    if int(grede[i]) >= best - 10:\n",
    "        print('Student 0 score is',grede[i],'and grande is A')\n",
    "    elif int(grede[i]) >= best -20:\n",
    "        print('Student 0 score is',grede[i],'and grande is B')\n",
    "    elif int(grede[i]) >= best -30:\n",
    "        print('Student 0 score is',grede[i],'and grande is C')\n",
    "    elif int(grede[i]) >= best -40:\n",
    "        print('Student 0 score is',grede[i],'and grande is D')\n",
    "    else:\n",
    "        print('Student 0 score is',grede[i],'and grande is F')"
   ]
  },
  {
   "cell_type": "markdown",
   "metadata": {},
   "source": [
    "- 2\n",
    "![](../Photo/122.png)"
   ]
  },
  {
   "cell_type": "code",
   "execution_count": 91,
   "metadata": {},
   "outputs": [
    {
     "name": "stdout",
     "output_type": "stream",
     "text": [
      "Enter integers:1 3 4 6 5 3 23 21\n"
     ]
    },
    {
     "data": {
      "text/plain": [
       "[21, 23, 3, 5, 6, 4, 3, 1]"
      ]
     },
     "execution_count": 91,
     "metadata": {},
     "output_type": "execute_result"
    }
   ],
   "source": [
    "a = input('Enter integers:')\n",
    "b = a.split(' ')\n",
    "c = []\n",
    "for i in range(len(b)):\n",
    "    c.append(int(b[i]))\n",
    "c.reverse()\n",
    "c"
   ]
  },
  {
   "cell_type": "markdown",
   "metadata": {},
   "source": [
    "- 3\n",
    "![](../Photo/123.png)"
   ]
  },
  {
   "cell_type": "code",
   "execution_count": 40,
   "metadata": {},
   "outputs": [
    {
     "name": "stdout",
     "output_type": "stream",
     "text": [
      "Enter integers between 1 and 100:2 5 6 5 4 3 23 43 2\n",
      "2 occurs 2 times\n",
      "3 occurs 1 times\n",
      "4 occurs 1 times\n",
      "5 occurs 2 times\n",
      "6 occurs 1 times\n",
      "23 occurs 1 times\n",
      "43 occurs 1 times\n"
     ]
    }
   ],
   "source": [
    "a = input('Enter integers between 1 and 100:')\n",
    "b = a.split(' ')\n",
    "c = []\n",
    "for i in range(len(b)):\n",
    "    c.append(int(b[i]))\n",
    "c.sort()\n",
    "for j in range(len(c)):\n",
    "    if j == 0:\n",
    "        print(c[j],'occurs',c.count(c[j]),'times')\n",
    "    else:\n",
    "        for m in range(0,j+1):\n",
    "            if c[j] == c[m]:\n",
    "                break\n",
    "        if m < j :\n",
    "            continue\n",
    "        else:\n",
    "             print(c[j],'occurs',c.count(c[j]),'times')"
   ]
  },
  {
   "cell_type": "markdown",
   "metadata": {},
   "source": [
    "- 4\n",
    "![](../Photo/124.png)"
   ]
  },
  {
   "cell_type": "code",
   "execution_count": 47,
   "metadata": {},
   "outputs": [
    {
     "name": "stdout",
     "output_type": "stream",
     "text": [
      "Enter integers between 1 and 100:1 2 3 4 5 6 7 8 9 10\n",
      "Number of elements above the average is 5 . Other is 5\n"
     ]
    }
   ],
   "source": [
    "a = input('Enter integers between 1 and 100:')\n",
    "b = a.split(' ')\n",
    "summ = 0\n",
    "for i in range(len(b)):\n",
    "    summ += int(b[i])\n",
    "average = summ / len(b)\n",
    "count = 0\n",
    "for j in range(len(b)):\n",
    "    if int(b[j]) < average:\n",
    "        count += 1\n",
    "print('Number of elements above the average is',count,'. Other is',len(b) -  count)        "
   ]
  },
  {
   "cell_type": "markdown",
   "metadata": {},
   "source": [
    "- 5\n",
    "![](../Photo/125.png)"
   ]
  },
  {
   "cell_type": "code",
   "execution_count": 56,
   "metadata": {
    "scrolled": true
   },
   "outputs": [
    {
     "name": "stdout",
     "output_type": "stream",
     "text": [
      "0 sum is 99\n",
      "1 sum is 108\n",
      "2 sum is 101\n",
      "3 sum is 104\n",
      "4 sum is 97\n",
      "5 sum is 89\n",
      "6 sum is 91\n",
      "7 sum is 106\n",
      "8 sum is 98\n",
      "9 sum is 107\n",
      "1000\n"
     ]
    }
   ],
   "source": [
    "import random\n",
    "a = list()\n",
    "count = [0,0,0,0,0,0,0,0,0,0]\n",
    "for i in range(1000):\n",
    "    res = random.randint(0,9)\n",
    "    if res == 0:\n",
    "        count[0] += 1\n",
    "    elif res == 1:\n",
    "        count[1] += 1\n",
    "    elif res == 2:\n",
    "        count[2] += 1\n",
    "    elif res == 3:\n",
    "        count[3] += 1\n",
    "    elif res == 4:\n",
    "        count[4] += 1\n",
    "    elif res == 5:\n",
    "        count[5] += 1\n",
    "    elif res == 6:\n",
    "        count[6] += 1\n",
    "    elif res == 7:\n",
    "        count[7] += 1\n",
    "    elif res == 8:\n",
    "        count[8] += 1\n",
    "    elif res == 9:\n",
    "        count[9] += 1\n",
    "for i in range(len(count)):\n",
    "    print(i,'sum is',count[i])\n",
    "print(sum(count))"
   ]
  },
  {
   "cell_type": "markdown",
   "metadata": {},
   "source": [
    "- 6\n",
    "![](../Photo/126.png)"
   ]
  },
  {
   "cell_type": "code",
   "execution_count": 57,
   "metadata": {},
   "outputs": [
    {
     "name": "stdout",
     "output_type": "stream",
     "text": [
      "Enter integers between 1 and 100:2 3 1 56 78 92 0\n",
      "6\n"
     ]
    }
   ],
   "source": [
    "def indexOfSmallestElement(lst):\n",
    "    a = min(lst)\n",
    "    for i in range(len(lst)):\n",
    "        if lst[i] == a:\n",
    "            return i\n",
    "a = input('Enter integers between 1 and 100:')\n",
    "b = a.split(' ')\n",
    "c = []\n",
    "for i in range(len(b)):\n",
    "    c.append(int(b[i]))\n",
    "d = indexOfSmallestElement(c)\n",
    "print(d)"
   ]
  },
  {
   "cell_type": "markdown",
   "metadata": {},
   "source": [
    "- 7\n",
    "![](../Photo/127.png)\n",
    "![](../Photo/128.png)"
   ]
  },
  {
   "cell_type": "code",
   "execution_count": 59,
   "metadata": {},
   "outputs": [
    {
     "name": "stdout",
     "output_type": "stream",
     "text": [
      "Enter integers between 1 and 100:34 56 76 54 89 23\n",
      "[56, 34, 76, 89, 23, 54]\n"
     ]
    }
   ],
   "source": [
    "import random\n",
    "def shuffle(lst):\n",
    "    for i in range(len(lst)):\n",
    "        a = random.randint(0,len(lst))\n",
    "        t = lst[i]\n",
    "        lst[i] = lst[a]\n",
    "        lst[a] = t\n",
    "    return lst\n",
    "\n",
    "a = input('Enter integers between 1 and 100:')\n",
    "b = a.split(' ')\n",
    "c = []\n",
    "for i in range(len(b)):\n",
    "    c.append(int(b[i]))\n",
    "print(shuffle(c))"
   ]
  },
  {
   "cell_type": "markdown",
   "metadata": {},
   "source": [
    "- 8\n",
    "![](../Photo/129.png)"
   ]
  },
  {
   "cell_type": "code",
   "execution_count": 105,
   "metadata": {
    "scrolled": true
   },
   "outputs": [
    {
     "name": "stdout",
     "output_type": "stream",
     "text": [
      "Enter integers:1 2 3 2 1 6 3 4 5 2\n",
      "1 2 3 6 4 5 "
     ]
    }
   ],
   "source": [
    "def eliminateDeplicates(lst):\n",
    "    for i in range(len(lst)):\n",
    "        if i == 0:\n",
    "            print(lst[i],end = ' ')\n",
    "        else:\n",
    "            for j in range(0,i+1):\n",
    "                if lst[i] == lst[j]:\n",
    "                    break\n",
    "            if j < i:\n",
    "                continue\n",
    "            else:\n",
    "                print(lst[i],end = ' ') \n",
    "\n",
    "a = input('Enter integers:')\n",
    "b = a.split(' ')\n",
    "c = []\n",
    "for i in range(len(b)):\n",
    "    c.append(int(b[i]))\n",
    "#print(eliminateDeplicates(cc))  #1 2 3 2 1 6 3 4 5 2\n",
    "eliminateDeplicates(c)"
   ]
  },
  {
   "cell_type": "markdown",
   "metadata": {},
   "source": [
    "- 9\n",
    "![](../Photo/130.png)"
   ]
  },
  {
   "cell_type": "code",
   "execution_count": 31,
   "metadata": {
    "scrolled": true
   },
   "outputs": [
    {
     "name": "stdout",
     "output_type": "stream",
     "text": [
      "Enter integers:1 1 3 4 4 5 7 9 10 30\n",
      "The list is already sorted\n"
     ]
    }
   ],
   "source": [
    "def isSorted(lst):\n",
    "    a = lst.copy()\n",
    "    lst.sort()\n",
    "    for i in range(len(lst)):\n",
    "        if a[i] != lst[i]:\n",
    "            print('The list is not sorted')\n",
    "            break\n",
    "    if i == len(lst) - 1:\n",
    "        print('The list is already sorted')\n",
    "\n",
    "a = input('Enter integers:')\n",
    "b = a.split(' ')\n",
    "c = []\n",
    "for i in range(len(b)):\n",
    "    c.append(int(b[i]))\n",
    "isSorted(c)"
   ]
  },
  {
   "cell_type": "markdown",
   "metadata": {},
   "source": [
    "- 10\n",
    "![](../Photo/131.png)"
   ]
  },
  {
   "cell_type": "code",
   "execution_count": 36,
   "metadata": {},
   "outputs": [
    {
     "name": "stdout",
     "output_type": "stream",
     "text": [
      "Enter integers:3 5 6 12 78 1 2\n",
      "[1, 2, 3, 5, 6, 12, 78]\n"
     ]
    }
   ],
   "source": [
    "def isSort(lst):\n",
    "    for i in range(len(lst)):\n",
    "        for j in range(0,len(lst)):\n",
    "            if lst[i] < lst[j]:\n",
    "                t = lst[i]\n",
    "                lst[i] = lst[j]\n",
    "                lst[j] = t\n",
    "            \n",
    "    return lst\n",
    "a = input('Enter integers:')\n",
    "b = a.split(' ')\n",
    "c = []\n",
    "for i in range(len(b)):\n",
    "    c.append(int(b[i]))\n",
    "d = isSort(c)\n",
    "print(d)"
   ]
  },
  {
   "cell_type": "markdown",
   "metadata": {},
   "source": [
    "- 11\n",
    "![](../Photo/132.png)"
   ]
  },
  {
   "cell_type": "code",
   "execution_count": 66,
   "metadata": {
    "scrolled": true
   },
   "outputs": [
    {
     "name": "stdout",
     "output_type": "stream",
     "text": [
      "Queen of Clubes\n",
      "K of Diamonds\n",
      "7 of Hearts\n",
      "3 of Clubes\n",
      "Number of picks: 4\n"
     ]
    }
   ],
   "source": [
    "import random\n",
    "num = ['A',2,3,4,5,6,7,8,9,10,'J','Queen','K']\n",
    "image = ['Spades','Clubes','Hearts','Diamonds']\n",
    "summ = 0\n",
    "while 1 :\n",
    "    resnum = []\n",
    "    resimage = list()\n",
    "    for i in range(len(image)):\n",
    "        num_ = random.randint(0,(len(num) - 1))\n",
    "        image_ = random.randint(0,(len(image) - 1))\n",
    "        resimage.append(image_)\n",
    "        resnum.append(num_)\n",
    "    if min(resimage) > 0:\n",
    "        for j in range(len(count)):\n",
    "            print(num[resnum[j]],'of',image[resimage[j]])\n",
    "        print('Number of picks:',summ)\n",
    "        break\n",
    "    else:\n",
    "        summ += 1\n"
   ]
  },
  {
   "cell_type": "markdown",
   "metadata": {},
   "source": [
    "- 12\n",
    "![](../Photo/133.png)"
   ]
  },
  {
   "cell_type": "code",
   "execution_count": 89,
   "metadata": {},
   "outputs": [
    {
     "name": "stdout",
     "output_type": "stream",
     "text": [
      "Enter integers:1 2 4 4 4 4 5\n",
      "yes\n"
     ]
    }
   ],
   "source": [
    "def isConsecutiveFour(values):\n",
    "    for i in range(len(values) - 3):\n",
    "        if values[i] == values[i + 1] and values[i] == values[i + 2] and values[i] == values[i + 3] :\n",
    "            print('yes')\n",
    "            break\n",
    "    if i == len(values) - 4:\n",
    "        print('No')\n",
    "            \n",
    "a = input('Enter integers:')\n",
    "b = a.split(' ')\n",
    "c = []\n",
    "for i in range(len(b)):\n",
    "    c.append(int(b[i]))\n",
    "isConsecutiveFour(c) "
   ]
  }
 ],
 "metadata": {
  "kernelspec": {
   "display_name": "Python 3",
   "language": "python",
   "name": "python3"
  },
  "language_info": {
   "codemirror_mode": {
    "name": "ipython",
    "version": 3
   },
   "file_extension": ".py",
   "mimetype": "text/x-python",
   "name": "python",
   "nbconvert_exporter": "python",
   "pygments_lexer": "ipython3",
   "version": "3.6.4"
  }
 },
 "nbformat": 4,
 "nbformat_minor": 2
}
