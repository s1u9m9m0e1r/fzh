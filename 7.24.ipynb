{
 "cells": [
  {
   "cell_type": "markdown",
   "metadata": {},
   "source": [
    "# 更多字符串和特殊方法\n",
    "- 前面我们已经学了类，在Python中还有一些特殊的方法起着非常重要的作用，这里会介绍一些特殊的方法和运算符的重载，以及使用特殊方法设计类"
   ]
  },
  {
   "cell_type": "markdown",
   "metadata": {},
   "source": [
    "## str 类\n",
    "- 一个str对象是不可变的，也就是说，一旦创建了这个字符串，那么它的内容在认为不改变的情况下是不会变的\n",
    "- s1 = str()\n",
    "- s2 = str('welcome to Python')"
   ]
  },
  {
   "cell_type": "markdown",
   "metadata": {},
   "source": [
    "## 创建两个对象，分别观察两者id\n",
    "- id为Python内存地址"
   ]
  },
  {
   "cell_type": "markdown",
   "metadata": {},
   "source": [
    "## 处理字符串的函数\n",
    "- len\n",
    "- max\n",
    "- min\n",
    "- 字符串一切是按照ASCII码值进行比较"
   ]
  },
  {
   "cell_type": "code",
   "execution_count": 1,
   "metadata": {
    "scrolled": true
   },
   "outputs": [
    {
     "data": {
      "text/plain": [
       "4"
      ]
     },
     "execution_count": 1,
     "metadata": {},
     "output_type": "execute_result"
    }
   ],
   "source": [
    "a = 'abcd'\n",
    "len(a)"
   ]
  },
  {
   "cell_type": "code",
   "execution_count": 3,
   "metadata": {},
   "outputs": [
    {
     "data": {
      "text/plain": [
       "'d'"
      ]
     },
     "execution_count": 3,
     "metadata": {},
     "output_type": "execute_result"
    }
   ],
   "source": [
    "max(a)"
   ]
  },
  {
   "cell_type": "markdown",
   "metadata": {},
   "source": [
    "## 下角标运算符 []\n",
    "- 一个字符串是一个字符序列，可以通过索引进行访问\n",
    "- 观察字符串是否是一个可迭代序列  \\__iter__"
   ]
  },
  {
   "cell_type": "code",
   "execution_count": 4,
   "metadata": {},
   "outputs": [
    {
     "name": "stdout",
     "output_type": "stream",
     "text": [
      "a\n",
      "b\n",
      "c\n",
      "d\n"
     ]
    }
   ],
   "source": [
    "for i in a:\n",
    "    print(i)"
   ]
  },
  {
   "cell_type": "markdown",
   "metadata": {},
   "source": [
    "## 切片 [start: end]\n",
    "- start 默认值为0\n",
    "- end 默认值为-1"
   ]
  },
  {
   "cell_type": "code",
   "execution_count": 5,
   "metadata": {},
   "outputs": [
    {
     "data": {
      "text/plain": [
       "'abc'"
      ]
     },
     "execution_count": 5,
     "metadata": {},
     "output_type": "execute_result"
    }
   ],
   "source": [
    "a[0:-1]#-1 最后一个  == len（a）-1"
   ]
  },
  {
   "cell_type": "code",
   "execution_count": 7,
   "metadata": {},
   "outputs": [
    {
     "data": {
      "text/plain": [
       "'bc'"
      ]
     },
     "execution_count": 7,
     "metadata": {},
     "output_type": "execute_result"
    }
   ],
   "source": [
    "a[1:3]"
   ]
  },
  {
   "cell_type": "code",
   "execution_count": 10,
   "metadata": {},
   "outputs": [
    {
     "data": {
      "text/plain": [
       "'bc'"
      ]
     },
     "execution_count": 10,
     "metadata": {},
     "output_type": "execute_result"
    }
   ],
   "source": [
    "a[-3:-1]"
   ]
  },
  {
   "cell_type": "code",
   "execution_count": 11,
   "metadata": {},
   "outputs": [
    {
     "data": {
      "text/plain": [
       "'abcd'"
      ]
     },
     "execution_count": 11,
     "metadata": {},
     "output_type": "execute_result"
    }
   ],
   "source": [
    "a[:]#保留所有，所有的索引"
   ]
  },
  {
   "cell_type": "code",
   "execution_count": 12,
   "metadata": {},
   "outputs": [
    {
     "data": {
      "text/plain": [
       "2"
      ]
     },
     "execution_count": 12,
     "metadata": {},
     "output_type": "execute_result"
    }
   ],
   "source": [
    "b = [[1,2,3],[4,5,6]]\n",
    "b[0][1]"
   ]
  },
  {
   "cell_type": "code",
   "execution_count": 19,
   "metadata": {},
   "outputs": [
    {
     "data": {
      "text/plain": [
       "[2, 3]"
      ]
     },
     "execution_count": 19,
     "metadata": {},
     "output_type": "execute_result"
    }
   ],
   "source": [
    "b[-2][-2:]"
   ]
  },
  {
   "cell_type": "code",
   "execution_count": 32,
   "metadata": {},
   "outputs": [
    {
     "name": "stdout",
     "output_type": "stream",
     "text": [
      "0.1 4 400 100\n",
      "0.1 4 400 100\n"
     ]
    }
   ],
   "source": [
    "c = [[1,[0.1,0.2],2,[4,5],3],[4,[400,500],5,[100,1000],6]]\n",
    "\n",
    "c1 = c[0][1][0]\n",
    "c2 = c[0][3][0]\n",
    "c3 = c[1][1][0]\n",
    "c4 = c[1][3][0]\n",
    "\n",
    "print(c1,c2,c3,c4)\n",
    "\n",
    "c5 = c[-2][-4][-2]\n",
    "c6 = c[-2][-2][-2]\n",
    "c7 = c[-1][-4][-2]\n",
    "c8 = c[-1][-2][-2]\n",
    "\n",
    "print(c5,c6,c7,c8)"
   ]
  },
  {
   "cell_type": "code",
   "execution_count": 37,
   "metadata": {},
   "outputs": [
    {
     "name": "stdout",
     "output_type": "stream",
     "text": [
      "[0.1, 0.2] [4, 5] [400, 500] [100, 1000]\n"
     ]
    }
   ],
   "source": [
    "c9 = c[0][1]\n",
    "c10 = c[0][3]\n",
    "c11 = c[1][1]\n",
    "c12 = c[1][3]\n",
    "print(c9,c10,c11,c12)"
   ]
  },
  {
   "cell_type": "markdown",
   "metadata": {},
   "source": [
    "## 链接运算符 + 和复制运算符 *\n",
    "- \\+ 链接多个字符串，同时''.join()也是\n",
    "- \\* 复制多个字符串"
   ]
  },
  {
   "cell_type": "code",
   "execution_count": 38,
   "metadata": {},
   "outputs": [
    {
     "data": {
      "text/plain": [
       "'a.b.c.d'"
      ]
     },
     "execution_count": 38,
     "metadata": {},
     "output_type": "execute_result"
    }
   ],
   "source": [
    "'.'.join('abcd')"
   ]
  },
  {
   "cell_type": "code",
   "execution_count": 39,
   "metadata": {},
   "outputs": [
    {
     "data": {
      "text/plain": [
       "'1.2.3.4'"
      ]
     },
     "execution_count": 39,
     "metadata": {},
     "output_type": "execute_result"
    }
   ],
   "source": [
    "'.'.join(['1','2','3','4'])"
   ]
  },
  {
   "cell_type": "markdown",
   "metadata": {},
   "source": [
    "## in 和 not in 运算符\n",
    "- in :判断某个字符是否在字符串内 \n",
    "- not in ：判断某个字符是否不在字符串内\n",
    "- 返回的是布尔值"
   ]
  },
  {
   "cell_type": "code",
   "execution_count": 40,
   "metadata": {},
   "outputs": [
    {
     "data": {
      "text/plain": [
       "True"
      ]
     },
     "execution_count": 40,
     "metadata": {},
     "output_type": "execute_result"
    }
   ],
   "source": [
    "a = 'abcd'\n",
    "'a' in a"
   ]
  },
  {
   "cell_type": "code",
   "execution_count": 41,
   "metadata": {},
   "outputs": [
    {
     "data": {
      "text/plain": [
       "False"
      ]
     },
     "execution_count": 41,
     "metadata": {},
     "output_type": "execute_result"
    }
   ],
   "source": [
    "'a' not in a"
   ]
  },
  {
   "cell_type": "code",
   "execution_count": 46,
   "metadata": {},
   "outputs": [
    {
     "name": "stdout",
     "output_type": "stream",
     "text": [
      ">>123AAZ\n",
      "没有 lower\n"
     ]
    }
   ],
   "source": [
    "'''\n",
    "输密码，必须有大小写，长度大于6位\n",
    "'''\n",
    "upper = 'QWERTYUIOPASDFGHJKLZXCVBNM'  \n",
    "lower = 'qwertyuiopasdfghjklzxcvbnm'\n",
    "num = '1234567890'\n",
    "passwd = input('>>')\n",
    "\n",
    "def chek(panding,type_):\n",
    "    for i in passwd:\n",
    "        if i in panding:\n",
    "             break\n",
    "    else:\n",
    "        print('没有',type_)\n",
    "    \n",
    "if len(passwd) >= 6:\n",
    "    chek(upper,'upper')\n",
    "    chek(lower,'lower')\n",
    "    chek(num,'num')\n",
    "else:\n",
    "    print('长度不够')"
   ]
  },
  {
   "cell_type": "markdown",
   "metadata": {},
   "source": [
    "## 比较字符串\n",
    "-  ==, !=, >=, <=, >, <\n",
    "- 依照ASCII码值进行比较"
   ]
  },
  {
   "cell_type": "markdown",
   "metadata": {},
   "source": [
    "## 测试字符串\n",
    "![](../Photo/99.png)\n",
    "- 注意：\n",
    "> - isalnum() 中是不能包含空格，否则会返回False"
   ]
  },
  {
   "cell_type": "code",
   "execution_count": 59,
   "metadata": {},
   "outputs": [
    {
     "name": "stdout",
     "output_type": "stream",
     "text": [
      ">>QWER134\n",
      "没有小写字母和数字\n"
     ]
    }
   ],
   "source": [
    "passwd = input('>>')\n",
    "if len(passwd) >= 6:\n",
    "    if(passwd.isdigit()):\n",
    "        print('没有大小写字母')\n",
    "    elif(passwd.isupper()):\n",
    "        print('没有小写字母和数字')\n",
    "    elif(passwd.islower()):\n",
    "        print('没有大写字母和数字')\n",
    "    else:\n",
    "        print('设置密码成功')\n",
    "else:\n",
    "    print('长度不够')"
   ]
  },
  {
   "cell_type": "markdown",
   "metadata": {},
   "source": [
    "## 搜索子串\n",
    "![](../Photo/100.png)"
   ]
  },
  {
   "cell_type": "code",
   "execution_count": 67,
   "metadata": {},
   "outputs": [
    {
     "name": "stdout",
     "output_type": "stream",
     "text": [
      "0.14545454545454545\n"
     ]
    }
   ],
   "source": [
    "num = 0\n",
    "d = '诗朗诵声情并茂吗？ 首播平均就很难；啊但你拒绝了可没ok佩服的懊恼女，交互闹饥荒撒的味道是的方式如果的的的的的'\n",
    "num += d.count('的')\n",
    "print(num / len(d))"
   ]
  },
  {
   "cell_type": "markdown",
   "metadata": {},
   "source": [
    "## 转换字符串\n",
    "![](../Photo/101.png)"
   ]
  },
  {
   "cell_type": "code",
   "execution_count": 70,
   "metadata": {},
   "outputs": [],
   "source": [
    "import random\n",
    "upper = ['A','B','C','D','E','F','G','H','I','J','K','L','N','M','O','P','Q','R','S','K','O','V','W','X','Y','Z']\n",
    "lower = ['q','w','e','r','t','y','u','i','o','p','l','k','j','h','g','f','d','s','a','z','x','c','v','b','n','m']\n",
    "num = ['1','2','3','4','5','6','7','8','9','0']\n"
   ]
  },
  {
   "cell_type": "markdown",
   "metadata": {},
   "source": [
    "## 删除字符串\n",
    "![](../Photo/146.png)"
   ]
  },
  {
   "cell_type": "code",
   "execution_count": 79,
   "metadata": {},
   "outputs": [
    {
     "data": {
      "text/plain": [
       "'aabcd'"
      ]
     },
     "execution_count": 79,
     "metadata": {},
     "output_type": "execute_result"
    }
   ],
   "source": [
    "aa = 'aa b c d'#去除中间的空格\n",
    "aa.replace(' ','')"
   ]
  },
  {
   "cell_type": "code",
   "execution_count": 82,
   "metadata": {},
   "outputs": [
    {
     "data": {
      "text/plain": [
       "9"
      ]
     },
     "execution_count": 82,
     "metadata": {},
     "output_type": "execute_result"
    }
   ],
   "source": [
    "aa1 = 'aa b c daa'\n",
    "aa1.rstrip(aa1[aa1.rfind('a')])"
   ]
  },
  {
   "cell_type": "code",
   "execution_count": 73,
   "metadata": {},
   "outputs": [
    {
     "data": {
      "text/plain": [
       "'a bb c d'"
      ]
     },
     "execution_count": 73,
     "metadata": {},
     "output_type": "execute_result"
    }
   ],
   "source": [
    "aa2 = ' a bb c d  '\n",
    "aa2.strip()"
   ]
  },
  {
   "cell_type": "markdown",
   "metadata": {},
   "source": [
    "## 格式化字符串\n",
    "![](../Photo/103.png)"
   ]
  },
  {
   "cell_type": "markdown",
   "metadata": {},
   "source": [
    "## EP:\n",
    "- 1\n",
    "![](../Photo/104.png)\n",
    "- 2 \n",
    "    随机参数100个数字，将www.baidu.com/?page=进行拼接"
   ]
  },
  {
   "cell_type": "code",
   "execution_count": 84,
   "metadata": {},
   "outputs": [
    {
     "name": "stdout",
     "output_type": "stream",
     "text": [
      "97895946040 97895946040 97894993832\n"
     ]
    }
   ],
   "source": [
    "s1 = 'Welcome to Python'\n",
    "s2 = s1\n",
    "s3 = 'Welcome to Python'\n",
    "print(id(s1),id(s2),id(s3))"
   ]
  },
  {
   "cell_type": "markdown",
   "metadata": {},
   "source": [
    "## Python高级使用方法 -- 字符串\n",
    "- 我们经常使用的方法实际上就是调用Python的运算重载\n",
    "![](../Photo/105.png)"
   ]
  },
  {
   "cell_type": "markdown",
   "metadata": {},
   "source": [
    "# Homework\n",
    "- 1\n",
    "![](../Photo/106.png)"
   ]
  },
  {
   "cell_type": "code",
   "execution_count": 116,
   "metadata": {
    "scrolled": true
   },
   "outputs": [
    {
     "name": "stdout",
     "output_type": "stream",
     "text": [
      "(eg:ddd-dd-dddd)>>123-as-2345\n",
      "Invalid SSN\n"
     ]
    }
   ],
   "source": [
    "a = input('(eg:ddd-dd-dddd)>>')\n",
    "if a[:3].isdigit() and a.find('-') == 3 and a[4:6].isdigit() and a.rfind('-') == 6 and a[-4:].isdigit():\n",
    "    print('Valid SSN')\n",
    "else:\n",
    "    print('Invalid SSN')"
   ]
  },
  {
   "cell_type": "markdown",
   "metadata": {},
   "source": [
    "- 2\n",
    "![](../Photo/107.png)"
   ]
  },
  {
   "cell_type": "code",
   "execution_count": 122,
   "metadata": {},
   "outputs": [
    {
     "name": "stdout",
     "output_type": "stream",
     "text": [
      "s1>>23\n",
      "s2>>123456\n",
      "s1 是 s2 的子串\n"
     ]
    }
   ],
   "source": [
    "s1 = input('s1>>')\n",
    "s2 = input('s2>>')\n",
    "if s2.find(str(s1)) != -1:\n",
    "    print('s1 是 s2 的子串')\n",
    "else:\n",
    "    print('s1 不是 s2 的子串')"
   ]
  },
  {
   "cell_type": "markdown",
   "metadata": {},
   "source": [
    "- 3\n",
    "![](../Photo/108.png)"
   ]
  },
  {
   "cell_type": "code",
   "execution_count": 133,
   "metadata": {},
   "outputs": [
    {
     "name": "stdout",
     "output_type": "stream",
     "text": [
      "passwd>>qwertQwer\n",
      "invalid password\n"
     ]
    }
   ],
   "source": [
    "passwd = input('passwd>>')\n",
    "if len(passwd) >= 8:\n",
    "    if passwd.isalnum():\n",
    "        summ = 0\n",
    "        for i in passwd:\n",
    "            if 47 < ord(i) < 58:\n",
    "                summ += 1\n",
    "            if summ == 2:\n",
    "                print('valid password')\n",
    "                break\n",
    "        else:\n",
    "            print('invalid password')\n",
    "    else:\n",
    "        print('invalid password')\n",
    "else:\n",
    "    print('invalid password')"
   ]
  },
  {
   "cell_type": "markdown",
   "metadata": {},
   "source": [
    "- 4\n",
    "![](../Photo/109.png)"
   ]
  },
  {
   "cell_type": "code",
   "execution_count": 139,
   "metadata": {},
   "outputs": [
    {
     "name": "stdout",
     "output_type": "stream",
     "text": [
      "s>>12324qwertyuiop\n",
      "s中的字母数为 10\n"
     ]
    }
   ],
   "source": [
    "def countLetters(s):\n",
    "    summ = 0\n",
    "    for i in s:\n",
    "        if 96 < ord(i) < 123 or 64 < ord(i) < 91:\n",
    "            summ += 1\n",
    "    return summ\n",
    "s = input('s>>')\n",
    "d = countLetters(s)\n",
    "print('s中的字母数为',d)"
   ]
  },
  {
   "cell_type": "markdown",
   "metadata": {},
   "source": [
    "- 5\n",
    "![](../Photo/110.png)"
   ]
  },
  {
   "cell_type": "code",
   "execution_count": 161,
   "metadata": {},
   "outputs": [
    {
     "name": "stdout",
     "output_type": "stream",
     "text": [
      "Enter a string:1-800-Flowers\n",
      "1-800-3569377\n"
     ]
    }
   ],
   "source": [
    "def getNumber(uppercaseLetter):\n",
    "    for i in uppercaseLetter:\n",
    "        if 96 < ord(i) < 100 or 64 < ord(i) < 68:\n",
    "            uppercaseLetter = uppercaseLetter.replace(i,'2')\n",
    "        elif 99 < ord(i) < 103 or 67 < ord(i) < 71:\n",
    "            uppercaseLetter = uppercaseLetter.replace(i,'3')\n",
    "        elif 102 < ord(i) < 106 or 70 < ord(i) < 74:\n",
    "            uppercaseLetter = uppercaseLetter.replace(i,'4')\n",
    "        elif 105 < ord(i) < 109 or 73 < ord(i) < 77:\n",
    "            uppercaseLetter = uppercaseLetter.replace(i,'5')\n",
    "        elif 108 < ord(i) < 112 or 76 < ord(i) < 80:\n",
    "            uppercaseLetter = uppercaseLetter.replace(i,'6')\n",
    "        elif 111 < ord(i) < 116 or 79 < ord(i) < 84:\n",
    "            uppercaseLetter = uppercaseLetter.replace(i,'7')\n",
    "        elif 115 < ord(i) < 119 or 83 < ord(i) < 87:\n",
    "            uppercaseLetter = uppercaseLetter.replace(i,'8')\n",
    "        elif 118 < ord(i) < 123 or 86 < ord(i) < 91:\n",
    "            uppercaseLetter = uppercaseLetter.replace(i,'9')\n",
    "    return uppercaseLetter\n",
    "ss = input('Enter a string:')\n",
    "print(getNumber(ss))"
   ]
  },
  {
   "cell_type": "markdown",
   "metadata": {},
   "source": [
    "- 6\n",
    "![](../Photo/111.png)"
   ]
  },
  {
   "cell_type": "code",
   "execution_count": 162,
   "metadata": {},
   "outputs": [
    {
     "name": "stdout",
     "output_type": "stream",
     "text": [
      ">>werty\n",
      "ytrew\n"
     ]
    }
   ],
   "source": [
    "def reverse(s):\n",
    "    a = ''\n",
    "    for i in s:\n",
    "        a = i + a\n",
    "    return a\n",
    "ss = input('>>')\n",
    "d = reverse(ss)\n",
    "print(d)"
   ]
  },
  {
   "cell_type": "markdown",
   "metadata": {},
   "source": [
    "- 7\n",
    "![](../Photo/112.png)"
   ]
  },
  {
   "cell_type": "code",
   "execution_count": null,
   "metadata": {},
   "outputs": [],
   "source": []
  },
  {
   "cell_type": "markdown",
   "metadata": {},
   "source": [
    "- 8\n",
    "![](../Photo/113.png)"
   ]
  },
  {
   "cell_type": "code",
   "execution_count": 165,
   "metadata": {},
   "outputs": [
    {
     "name": "stdout",
     "output_type": "stream",
     "text": [
      "Enter the first 12 digits of an ISBN-13 as a string:978013213079\n",
      "The ISBN-13 number is 9780132130790\n"
     ]
    }
   ],
   "source": [
    "num = input('Enter the first 12 digits of an ISBN-13 as a string:')\n",
    "if num.isdigit():\n",
    "    d = 10 - (int(num[0]) + int(num[1]) * 3 + int(num[2])+int(num[3]) * 3 + int(num[4])+int(num[5]) * 3 + int(num[6])+int(num[7]) * 3 + int(num[8])+int(num[9]) * 3 + int(num[10])+int(num[11]) * 3) % 10\n",
    "    if d == 10:\n",
    "        d = 0\n",
    "print('The ISBN-13 number is',num + str(d))"
   ]
  },
  {
   "cell_type": "markdown",
   "metadata": {},
   "source": [
    "- 9\n",
    "![](../Photo/114.png)"
   ]
  },
  {
   "cell_type": "code",
   "execution_count": 3,
   "metadata": {
    "scrolled": true
   },
   "outputs": [
    {
     "name": "stdout",
     "output_type": "stream",
     "text": [
      "Enter x1,y1,width1,height1:9,1.3,10,35.3\n",
      "Enter x2,y2,width2,height2:1.3,4.3,4,5.3\n",
      "Area of r1: 353.0\n",
      "Peimeter of r1: 90.6\n",
      "Area of r2: 21.2\n",
      "Peimeter of r2: 18.6\n",
      "r1 contains the center of r2?  False\n"
     ]
    },
    {
     "ename": "AttributeError",
     "evalue": "'Rectangle2D' object has no attribute 'contain'",
     "output_type": "error",
     "traceback": [
      "\u001b[1;31m---------------------------------------------------------------------------\u001b[0m",
      "\u001b[1;31mAttributeError\u001b[0m                            Traceback (most recent call last)",
      "\u001b[1;32m<ipython-input-3-a0c9f122d0c4>\u001b[0m in \u001b[0;36m<module>\u001b[1;34m()\u001b[0m\n\u001b[0;32m     24\u001b[0m \u001b[0mprint\u001b[0m\u001b[1;33m(\u001b[0m\u001b[1;34m'Peimeter of r2:'\u001b[0m\u001b[1;33m,\u001b[0m\u001b[0mround\u001b[0m\u001b[1;33m(\u001b[0m\u001b[0mr2\u001b[0m\u001b[1;33m.\u001b[0m\u001b[0mgetPerimeter\u001b[0m\u001b[1;33m(\u001b[0m\u001b[1;33m)\u001b[0m\u001b[1;33m,\u001b[0m\u001b[1;36m1\u001b[0m\u001b[1;33m)\u001b[0m\u001b[1;33m)\u001b[0m\u001b[1;33m\u001b[0m\u001b[0m\n\u001b[0;32m     25\u001b[0m \u001b[0mprint\u001b[0m\u001b[1;33m(\u001b[0m\u001b[1;34m'r1 contains the center of r2? '\u001b[0m\u001b[1;33m,\u001b[0m\u001b[0mr1\u001b[0m\u001b[1;33m.\u001b[0m\u001b[0mcontainsPoint\u001b[0m\u001b[1;33m(\u001b[0m\u001b[0mx2\u001b[0m\u001b[1;33m,\u001b[0m\u001b[0my2\u001b[0m\u001b[1;33m)\u001b[0m\u001b[1;33m)\u001b[0m\u001b[1;33m\u001b[0m\u001b[0m\n\u001b[1;32m---> 26\u001b[1;33m \u001b[0mprint\u001b[0m\u001b[1;33m(\u001b[0m\u001b[1;34m'r1 contains r2?'\u001b[0m\u001b[1;33m,\u001b[0m\u001b[0mr1\u001b[0m\u001b[1;33m.\u001b[0m\u001b[0mcontain\u001b[0m\u001b[1;33m(\u001b[0m\u001b[0mr2\u001b[0m\u001b[1;33m)\u001b[0m\u001b[1;33m)\u001b[0m\u001b[1;33m\u001b[0m\u001b[0m\n\u001b[0m\u001b[0;32m     27\u001b[0m \u001b[0mprint\u001b[0m\u001b[1;33m(\u001b[0m\u001b[1;34m'r1 overlaps r2?'\u001b[0m\u001b[1;33m,\u001b[0m\u001b[0mr1\u001b[0m\u001b[1;33m.\u001b[0m\u001b[0moverlaps\u001b[0m\u001b[1;33m(\u001b[0m\u001b[0mr2\u001b[0m\u001b[1;33m)\u001b[0m\u001b[1;33m)\u001b[0m\u001b[1;33m\u001b[0m\u001b[0m\n",
      "\u001b[1;31mAttributeError\u001b[0m: 'Rectangle2D' object has no attribute 'contain'"
     ]
    }
   ],
   "source": [
    "class Rectangle2D():\n",
    "    def __init__(self,x = 0,y = 0,width = 0,height = 0):\n",
    "        self.x = x\n",
    "        self.y = y\n",
    "        self.width = width\n",
    "        self.height = height\n",
    "    def getArea(self):\n",
    "        return self.width * self.height\n",
    "    def getPerimeter(self):\n",
    "        return (self.width + self.height) * 2\n",
    "    def containsPoint(self,x,y):\n",
    "        if self.x - self.width / 2  < x < self.x + self.width / 2 and  self.y - self.height / 2 < y < self.y - self.height / 2:\n",
    "            return True\n",
    "        else:\n",
    "            return False\n",
    "   \n",
    "x1,y1,width1,height1 = eval(input('Enter x1,y1,width1,height1:'))\n",
    "x2,y2,width2,height2 = eval(input('Enter x2,y2,width2,height2:'))\n",
    "r1 = Rectangle2D(x1,y1,width1,height1)\n",
    "r2 = Rectangle2D(x2,y2,width2,height2)\n",
    "print('Area of r1:',round(r1.getArea(),1))\n",
    "print('Peimeter of r1:',round(r1.getPerimeter(),1))\n",
    "print('Area of r2:',round(r2.getArea(),1))\n",
    "print('Peimeter of r2:',round(r2.getPerimeter(),1))\n",
    "print('r1 contains the center of r2? ',r1.containsPoint(x2,y2))\n",
    "print('r1 contains r2?',r1.contain(r2))\n",
    "print('r1 overlaps r2?',r1.overlaps(r2))"
   ]
  },
  {
   "cell_type": "code",
   "execution_count": 2,
   "metadata": {},
   "outputs": [
    {
     "name": "stdout",
     "output_type": "stream",
     "text": [
      "hahah\n",
      "lalalala\n",
      "None\n"
     ]
    }
   ],
   "source": [
    "class A():\n",
    "    def __init__(self):\n",
    "        self.a = 'hahah'\n",
    "    def showA(self,A):\n",
    "        print(self.a)\n",
    "        print(A.showB())\n",
    "    def showB(self):\n",
    "        print('lalalala')\n",
    "r1 = A()\n",
    "r2 = A()\n",
    "r1.showA(r2)"
   ]
  }
 ],
 "metadata": {
  "kernelspec": {
   "display_name": "Python 3",
   "language": "python",
   "name": "python3"
  },
  "language_info": {
   "codemirror_mode": {
    "name": "ipython",
    "version": 3
   },
   "file_extension": ".py",
   "mimetype": "text/x-python",
   "name": "python",
   "nbconvert_exporter": "python",
   "pygments_lexer": "ipython3",
   "version": "3.6.4"
  }
 },
 "nbformat": 4,
 "nbformat_minor": 2
}
