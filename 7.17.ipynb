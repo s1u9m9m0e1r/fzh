{
 "cells": [
  {
   "cell_type": "markdown",
   "metadata": {},
   "source": [
    "# 数学函数、字符串和对象\n",
    "## 本章介绍Python函数来执行常见的数学运算\n",
    "- 函数是完成一个特殊任务的一组语句，可以理解为一个函数相当于一个小功能，但是在开发中，需要注意一个函数的长度最好不要超过一屏\n",
    "- Python中的内置函数是不需要Import导入的\n",
    "<img src=\"../Photo/15.png\"></img>"
   ]
  },
  {
   "cell_type": "code",
   "execution_count": 1,
   "metadata": {},
   "outputs": [
    {
     "data": {
      "text/plain": [
       "12"
      ]
     },
     "execution_count": 1,
     "metadata": {},
     "output_type": "execute_result"
    }
   ],
   "source": [
    "abs(-12)"
   ]
  },
  {
   "cell_type": "code",
   "execution_count": 3,
   "metadata": {
    "scrolled": true
   },
   "outputs": [
    {
     "data": {
      "text/plain": [
       "'c'"
      ]
     },
     "execution_count": 3,
     "metadata": {},
     "output_type": "execute_result"
    }
   ],
   "source": [
    "max('abc') #ascii"
   ]
  },
  {
   "cell_type": "code",
   "execution_count": 5,
   "metadata": {},
   "outputs": [
    {
     "data": {
      "text/plain": [
       "-12"
      ]
     },
     "execution_count": 5,
     "metadata": {},
     "output_type": "execute_result"
    }
   ],
   "source": [
    "min(-12,18,-8)"
   ]
  },
  {
   "cell_type": "code",
   "execution_count": 6,
   "metadata": {},
   "outputs": [
    {
     "data": {
      "text/plain": [
       "1024"
      ]
     },
     "execution_count": 6,
     "metadata": {},
     "output_type": "execute_result"
    }
   ],
   "source": [
    "pow(2,10)  #2^10"
   ]
  },
  {
   "cell_type": "code",
   "execution_count": 7,
   "metadata": {},
   "outputs": [
    {
     "data": {
      "text/plain": [
       "5"
      ]
     },
     "execution_count": 7,
     "metadata": {},
     "output_type": "execute_result"
    }
   ],
   "source": [
    "round(5,5)"
   ]
  },
  {
   "cell_type": "code",
   "execution_count": 8,
   "metadata": {},
   "outputs": [
    {
     "data": {
      "text/plain": [
       "532.67"
      ]
     },
     "execution_count": 8,
     "metadata": {},
     "output_type": "execute_result"
    }
   ],
   "source": [
    "round(532.66987,3)"
   ]
  },
  {
   "cell_type": "code",
   "execution_count": 16,
   "metadata": {
    "scrolled": true
   },
   "outputs": [
    {
     "name": "stdout",
     "output_type": "stream",
     "text": [
      "please input num:12\n",
      "17\n",
      "False\n"
     ]
    }
   ],
   "source": [
    "import random\n",
    "res = random.randint(0,20)\n",
    "num = eval(input('please input num:'))\n",
    "print(res)\n",
    "if max(num,res) == num :\n",
    "    print ('Ok')\n",
    "else :\n",
    "    print('False')"
   ]
  },
  {
   "cell_type": "code",
   "execution_count": null,
   "metadata": {},
   "outputs": [],
   "source": [
    "import random     #石头剪刀布\n",
    "res1 = random.randint(0,2)\n",
    "rea2 = random.randint(0,2)\n",
    "if res1\n"
   ]
  },
  {
   "cell_type": "code",
   "execution_count": null,
   "metadata": {},
   "outputs": [],
   "source": [
    "import os  #调用物理机系统接口\n",
    "os.system('caql')"
   ]
  },
  {
   "cell_type": "markdown",
   "metadata": {},
   "source": [
    "## 尝试练习Python内置函数"
   ]
  },
  {
   "cell_type": "markdown",
   "metadata": {},
   "source": [
    "## Python中的math模块提供了许多数学函数\n",
    "<img src=\"../Photo/16.png\"></img>\n",
    "<img src=\"../Photo/17.png\"></img>\n"
   ]
  },
  {
   "cell_type": "code",
   "execution_count": 17,
   "metadata": {},
   "outputs": [
    {
     "data": {
      "text/plain": [
       "3.8"
      ]
     },
     "execution_count": 17,
     "metadata": {},
     "output_type": "execute_result"
    }
   ],
   "source": [
    "import math\n",
    "math.fabs(-3.8)#绝对值"
   ]
  },
  {
   "cell_type": "code",
   "execution_count": 18,
   "metadata": {},
   "outputs": [
    {
     "data": {
      "text/plain": [
       "-3"
      ]
     },
     "execution_count": 18,
     "metadata": {},
     "output_type": "execute_result"
    }
   ],
   "source": [
    "import math\n",
    "math.ceil(-3.12)#向上最近的整数"
   ]
  },
  {
   "cell_type": "code",
   "execution_count": 19,
   "metadata": {},
   "outputs": [
    {
     "data": {
      "text/plain": [
       "-4"
      ]
     },
     "execution_count": 19,
     "metadata": {},
     "output_type": "execute_result"
    }
   ],
   "source": [
    "import math\n",
    "math.floor(-3.12)#向下最近的整数"
   ]
  },
  {
   "cell_type": "code",
   "execution_count": 23,
   "metadata": {},
   "outputs": [
    {
     "data": {
      "text/plain": [
       "2.718281828459045"
      ]
     },
     "execution_count": 23,
     "metadata": {},
     "output_type": "execute_result"
    }
   ],
   "source": [
    "import math\n",
    "math.exp(1)#e的幂"
   ]
  },
  {
   "cell_type": "code",
   "execution_count": 22,
   "metadata": {},
   "outputs": [
    {
     "name": "stdout",
     "output_type": "stream",
     "text": [
      "0.1500091552734375\n"
     ]
    }
   ],
   "source": [
    "import time\n",
    "start = time.time()#当前的时间戳\n",
    "num=0\n",
    "for i in range(1000000):\n",
    "    num +=i\n",
    "end = time.time()\n",
    "print(end - start)#运行1-1000000的时间"
   ]
  },
  {
   "cell_type": "code",
   "execution_count": null,
   "metadata": {},
   "outputs": [],
   "source": [
    "import math\n",
    "L = -[yloga+(1-y)log(1-a)]"
   ]
  },
  {
   "cell_type": "code",
   "execution_count": 29,
   "metadata": {},
   "outputs": [
    {
     "data": {
      "text/plain": [
       "1.0"
      ]
     },
     "execution_count": 29,
     "metadata": {},
     "output_type": "execute_result"
    }
   ],
   "source": [
    "import math\n",
    "math.sin(math.radians(90))"
   ]
  },
  {
   "cell_type": "code",
   "execution_count": 40,
   "metadata": {},
   "outputs": [
    {
     "name": "stdout",
     "output_type": "stream",
     "text": [
      "please input radius:1\n",
      "圆心坐标:0,0\n",
      "1.0 0.0 \n",
      "\n",
      "0.5403023058681398 0.8414709848078965 \n",
      "\n",
      "-0.4161468365471424 0.9092974268256817 \n",
      "\n",
      "-0.9899924966004454 0.1411200080598672 \n",
      "\n",
      "-0.6536436208636119 -0.7568024953079282 \n",
      "\n",
      "0.28366218546322625 -0.9589242746631385 \n",
      "\n"
     ]
    }
   ],
   "source": [
    "import math#圆的坐标\n",
    "pi = math.pi\n",
    "radius = eval(input('please input radius:'))\n",
    "x,y = eval(input('圆心坐标:'))\n",
    "for i in range(0,2*int(pi)):\n",
    "    x1 = math.cos(i)+x\n",
    "    y1 = math.sin(i)+y\n",
    "    print(float(x1),float(y1),'\\n')"
   ]
  },
  {
   "cell_type": "code",
   "execution_count": null,
   "metadata": {},
   "outputs": [],
   "source": []
  },
  {
   "cell_type": "code",
   "execution_count": null,
   "metadata": {},
   "outputs": [],
   "source": []
  },
  {
   "cell_type": "code",
   "execution_count": null,
   "metadata": {},
   "outputs": [],
   "source": []
  },
  {
   "cell_type": "code",
   "execution_count": null,
   "metadata": {},
   "outputs": [],
   "source": [
    "import random\n",
    "import math\n",
    "\n",
    "first_num, second_num = 3, 4\n",
    "list = ['+', '-', '*', '/']\n",
    "randl = random.randint(0, 3)\n",
    "if list[randl]=='+':\n",
    "    print('验证码', first_num ,'+', second_num, '= ?')\n",
    "    right_answer = first_num + second_num\n",
    "elif list[randl]=='-':\n",
    "    print('验证码', first_num ,'-', second_num, '= ?')\n",
    "    right_answer = first_num - second_num\n",
    "elif list[randl]=='-':\n",
    "    print('验证码', first_num ,'*', second_num, '= ?')\n",
    "    right_answer = first_num * second_num\n",
    "else:\n",
    "    print('验证码', first_num ,'/', second_num, '= ?')\n",
    "    right_answer = first_num / second_num\n",
    "    \n",
    "answer = eval(input('写出结果： '))\n",
    "\n",
    "if answer == right_answer:\n",
    "    print('验证码正确')\n",
    "else:\n",
    "    print('验证码错误')"
   ]
  },
  {
   "cell_type": "code",
   "execution_count": null,
   "metadata": {},
   "outputs": [],
   "source": [
    "# 验证码系统\n",
    "import random\n",
    "first_num = random.randint(0, 9)\n",
    "second_num = random.randint(0, 9)\n",
    "fuhao = random.randint(0, 3)\n",
    "\n",
    "if fuhao==0:\n",
    "    print('验证码', first_num ,'+', second_num, '= ?')\n",
    "    right_answer = first_num + second_num\n",
    "elif fuhao==1:\n",
    "    print('验证码', first_num ,'-', second_num, '= ?')\n",
    "    right_answer = first_num - second_num\n",
    "elif fuhao==2:\n",
    "    print('验证码', first_num ,'*', second_num, '= ?')\n",
    "    right_answer = first_num * second_num\n",
    "else:\n",
    "    print('验证码', first_num ,'/', second_num, '= ?')\n",
    "    right_answer = first_num / second_num\n",
    "    \n",
    "answer = eval(input('写出结果： '))\n",
    "\n",
    "if answer == right_answer:\n",
    "    print('验证码正确')\n",
    "else:\n",
    "    print('验证码错误')\n"
   ]
  },
  {
   "cell_type": "code",
   "execution_count": null,
   "metadata": {},
   "outputs": [],
   "source": [
    "import random\n",
    "list = ['+', '-', '*', '/']\n",
    "c = random.sample(list, 1)\n",
    "print(c)"
   ]
  },
  {
   "cell_type": "code",
   "execution_count": null,
   "metadata": {
    "scrolled": true
   },
   "outputs": [],
   "source": [
    "import random\n",
    "import math\n",
    "\n",
    "first_num = random.randint(0, 9)\n",
    "second_num = random.randint(0, 9)\n",
    "list = ['+', '-', '*', '/']\n",
    "fuhao = random.sample(list, 1)\n",
    "if fuhao=='+':\n",
    "    print('验证码', first_num ,'+', second_num, '= ?')\n",
    "    right_answer = first_num + second_num\n",
    "elif fuhao=='-':\n",
    "    print('验证码', first_num ,'-', second_num, '= ?')\n",
    "    right_answer = first_num - second_num\n",
    "elif fuhao=='-':\n",
    "    print('验证码', first_num ,'*', second_num, '= ?')\n",
    "    right_answer = first_num * second_num\n",
    "else:\n",
    "    print('验证码', first_num ,'/', second_num, '= ?')\n",
    "    right_answer = first_num / second_num\n",
    "    \n",
    "answer = eval(input('写出结果： '))\n",
    "\n",
    "if answer == right_answer:\n",
    "    print('验证码正确')\n",
    "else:\n",
    "    print('验证码错误')"
   ]
  },
  {
   "cell_type": "code",
   "execution_count": null,
   "metadata": {},
   "outputs": [],
   "source": [
    "import PIL"
   ]
  },
  {
   "cell_type": "markdown",
   "metadata": {},
   "source": [
    "## 两个数学常量PI和e，可以通过使用math.pi 和math.e调用"
   ]
  },
  {
   "cell_type": "code",
   "execution_count": 26,
   "metadata": {},
   "outputs": [
    {
     "name": "stdout",
     "output_type": "stream",
     "text": [
      "3.141592653589793\n",
      "2.718281828459045\n"
     ]
    }
   ],
   "source": [
    "import math\n",
    "print(math.pi)\n",
    "print(math.e)#自然底数"
   ]
  },
  {
   "cell_type": "markdown",
   "metadata": {},
   "source": [
    "## EP:\n",
    "- 通过math库，写一个程序，使得用户输入三个顶点(x,y)返回三个角度\n",
    "- 注意：Python计算角度为弧度制，需要将其转换为角度\n",
    "<img src=\"../Photo/18.png\">"
   ]
  },
  {
   "cell_type": "code",
   "execution_count": 33,
   "metadata": {},
   "outputs": [
    {
     "name": "stdout",
     "output_type": "stream",
     "text": [
      "输入坐标A：0,1\n",
      "输入坐标B：0,4\n",
      "输入坐标C：4,1\n",
      "A，B，C的角度分别为： 90.0 53.13010235415599 36.86989764584401\n"
     ]
    }
   ],
   "source": [
    "import math\n",
    "\n",
    "x1,y1 = eval(input('输入坐标A：'))\n",
    "x2,y2 = eval(input('输入坐标B：'))\n",
    "x3,y3 = eval(input('输入坐标C：'))\n",
    "\n",
    "a = math.sqrt((x2-x3)**2+(y2-y3)**2)\n",
    "b = math.sqrt((x3-x1)**2+(y3-y1)**2)\n",
    "c = math.sqrt((x2-x1)**2+(y2-y1)**2)\n",
    "\n",
    "A = math.degrees(math.acos((a*a-b*b-c*c)/(-2*b*c)))\n",
    "B = math.degrees(math.acos((b*b-a*a-c*c)/(-2*a*c)))\n",
    "C = math.degrees(math.acos((c*c-a*a-b*b)/(-2*a*b)))\n",
    "\n",
    "print('A，B，C的角度分别为：',A,B,C)\n",
    "\n"
   ]
  },
  {
   "cell_type": "markdown",
   "metadata": {},
   "source": [
    "## 字符串和字符\n",
    "- 在Python中，字符串必须是在单引号或者双引号内，在多段换行的字符串中可以使用“”“\n",
    "- 在使用”“”时，给予其变量则变为字符串，否则当多行注释使用"
   ]
  },
  {
   "cell_type": "code",
   "execution_count": null,
   "metadata": {},
   "outputs": [],
   "source": [
    "c = \"\"\"在Python中，字符串必须是在单引号或者双引号内，在多段换行的字符串中可以使用“”“\n",
    "在使用”“”时，给予其变量则变为字符串，否则当多行注释使用\"\"\"   #字符串有多行时，添加三个单引号或者三个双引号\n",
    "\n",
    "\"\"\"在Python中，字符串必须是在单引号或者双引号内，在多段换行的字符串中可以使用“”“\n",
    "在使用”“”时，给予其变量则变为字符串，否则当多行注释使用\"\"\"   #三引号可以表示多行注释\n",
    "# 当6个引号没有赋值时，那么它是注释的作用\n",
    "# 6个引号的作用，多行文本"
   ]
  },
  {
   "cell_type": "code",
   "execution_count": 28,
   "metadata": {},
   "outputs": [
    {
     "name": "stdout",
     "output_type": "stream",
     "text": [
      "她\n",
      "说\n",
      "：\n",
      "”\n",
      "你\n",
      "真\n",
      "是\n",
      "一\n",
      "个\n",
      "小\n",
      "天\n",
      "才\n",
      "“\n",
      "你\n",
      "真\n",
      "是\n",
      "一\n",
      "个\n",
      "小\n",
      "机\n",
      "灵\n",
      "鬼\n",
      "你\n",
      "真\n",
      "是\n",
      "一\n",
      "个\n",
      "小\n",
      "傻\n",
      "逼\n",
      "你\n",
      "真\n",
      "是\n",
      "一\n",
      "个\n",
      "大\n",
      "傻\n",
      "逼\n",
      "38\n"
     ]
    },
    {
     "data": {
      "text/plain": [
       "b'\\xe5\\xa5\\xb9\\xe8\\xaf\\xb4\\xef\\xbc\\x9a\\xe2\\x80\\x9d\\xe4\\xbd\\xa0\\xe7\\x9c\\x9f\\xe6\\x98\\xaf\\xe4\\xb8\\x80\\xe4\\xb8\\xaa\\xe5\\xb0\\x8f\\xe5\\xa4\\xa9\\xe6\\x89\\x8d\\xe2\\x80\\x9c\\n\\xe4\\xbd\\xa0\\xe7\\x9c\\x9f\\xe6\\x98\\xaf\\xe4\\xb8\\x80\\xe4\\xb8\\xaa\\xe5\\xb0\\x8f\\xe6\\x9c\\xba\\xe7\\x81\\xb5\\xe9\\xac\\xbc\\n\\xe4\\xbd\\xa0\\xe7\\x9c\\x9f\\xe6\\x98\\xaf\\xe4\\xb8\\x80\\xe4\\xb8\\xaa\\xe5\\xb0\\x8f\\xe5\\x82\\xbb\\xe9\\x80\\xbc\\n\\xe4\\xbd\\xa0\\xe7\\x9c\\x9f\\xe6\\x98\\xaf\\xe4\\xb8\\x80\\xe4\\xb8\\xaa\\xe5\\xa4\\xa7\\xe5\\x82\\xbb\\xe9\\x80\\xbc'"
      ]
     },
     "execution_count": 28,
     "metadata": {},
     "output_type": "execute_result"
    }
   ],
   "source": [
    "b = '''她说：”你真是一个小天才“\n",
    "你真是一个小机灵鬼\n",
    "你真是一个小傻逼\n",
    "你真是一个大傻逼'''\n",
    "num = 0\n",
    "for i in b:\n",
    "    if i == '\\n':  #不加空格\n",
    "       continue\n",
    "    num +=1\n",
    "    print(i)\n",
    "print (num)\n",
    "bytes(b.encode('utf8'))#显示b的utf8的"
   ]
  },
  {
   "cell_type": "markdown",
   "metadata": {},
   "source": [
    "## ASCII码与Unicode码\n",
    "- <img src=\"../Photo/19.png\"></img>\n",
    "- <img src=\"../Photo/20.png\"></img>\n",
    "- <img src=\"../Photo/21.png\"></img>"
   ]
  },
  {
   "cell_type": "markdown",
   "metadata": {},
   "source": [
    "## 函数ord、chr\n",
    "- ord 返回ASCII码值\n",
    "- chr 返回字符"
   ]
  },
  {
   "cell_type": "code",
   "execution_count": 62,
   "metadata": {},
   "outputs": [
    {
     "data": {
      "text/plain": [
       "121"
      ]
     },
     "execution_count": 62,
     "metadata": {},
     "output_type": "execute_result"
    }
   ],
   "source": [
    "ord('y')"
   ]
  },
  {
   "cell_type": "code",
   "execution_count": 63,
   "metadata": {},
   "outputs": [
    {
     "data": {
      "text/plain": [
       "'y'"
      ]
     },
     "execution_count": 63,
     "metadata": {},
     "output_type": "execute_result"
    }
   ],
   "source": [
    "chr(121)"
   ]
  },
  {
   "cell_type": "code",
   "execution_count": 73,
   "metadata": {},
   "outputs": [
    {
     "name": "stdout",
     "output_type": "stream",
     "text": [
      "Tyuo|"
     ]
    }
   ],
   "source": [
    "a = 'Joker'\n",
    "for i in a:\n",
    "   # print(type(ord(i))) #类型\n",
    "    print(chr(ord(i)+10),end= '')"
   ]
  },
  {
   "cell_type": "markdown",
   "metadata": {},
   "source": [
    "## EP:\n",
    "- 利用ord与chr进行简单邮箱加密"
   ]
  },
  {
   "cell_type": "code",
   "execution_count": 75,
   "metadata": {},
   "outputs": [
    {
     "name": "stdout",
     "output_type": "stream",
     "text": [
      "2556739464Arr/dpn"
     ]
    }
   ],
   "source": [
    "email = '1445628353@qq.com'\n",
    "for i in email:\n",
    "    print(chr(ord(i)+1),end = '')"
   ]
  },
  {
   "cell_type": "code",
   "execution_count": 21,
   "metadata": {},
   "outputs": [
    {
     "name": "stdout",
     "output_type": "stream",
     "text": [
      "0h\u001191Ĭ\b;,Ǿ\u0005}dʄ\u0006\\"
     ]
    }
   ],
   "source": [
    "\n",
    "email = '1445628353@qq.com'\n",
    "j = 0\n",
    "for i in email:\n",
    "    j += 1\n",
    "    if j % 4 == 0:\n",
    "        print(chr(ord(i)+j),end = '')\n",
    "    if j % 4 == 1:\n",
    "        print(chr(ord(i)-j),end = '')\n",
    "    if j % 4 == 2:\n",
    "        print(chr(ord(i)*j),end = '')\n",
    "    if j % 4 == 3:\n",
    "        print(chr(int(ord(i)/j)),end = '')"
   ]
  },
  {
   "cell_type": "code",
   "execution_count": null,
   "metadata": {},
   "outputs": [],
   "source": [
    "import hashlib\n",
    "str1 = 'this is a test.'\n",
    "h1 = hashlib.md5()\n",
    "h1.update(str1.encode(encoding = 'utf-8'))\n",
    "print('MD5加密之后为：', h1.hexdigest())"
   ]
  },
  {
   "cell_type": "markdown",
   "metadata": {},
   "source": [
    "## 转义序列 \\\n",
    "- a = \"He said,\"Johon's program is easy to read\"\"\n",
    "- 转掉原来的意思\n",
    "- 一般情况下，只有当语句与默认语句相撞的时候，就需要转义"
   ]
  },
  {
   "cell_type": "code",
   "execution_count": 82,
   "metadata": {},
   "outputs": [
    {
     "name": "stdout",
     "output_type": "stream",
     "text": [
      "He said,\"Johon's program is easy to read\"\n"
     ]
    }
   ],
   "source": [
    "a = \"He said,\\\"Johon's program is easy to read\\\"\"  #z正则表达式中常用转义字符\\\n",
    "print(a)"
   ]
  },
  {
   "cell_type": "code",
   "execution_count": 83,
   "metadata": {},
   "outputs": [
    {
     "name": "stdout",
     "output_type": "stream",
     "text": [
      "He said,\"Johon's program is easy to read\"\n"
     ]
    }
   ],
   "source": [
    "a = '''He said,\"Johon's program is easy to read\"'''\n",
    "print(a)"
   ]
  },
  {
   "cell_type": "code",
   "execution_count": 88,
   "metadata": {},
   "outputs": [
    {
     "ename": "SyntaxError",
     "evalue": "EOL while scanning string literal (<ipython-input-88-fe9f793e89ff>, line 1)",
     "output_type": "error",
     "traceback": [
      "\u001b[1;36m  File \u001b[1;32m\"<ipython-input-88-fe9f793e89ff>\"\u001b[1;36m, line \u001b[1;32m1\u001b[0m\n\u001b[1;33m    He_said=\"Johon's pro'gram ' is \\t \\n easy to \\read # 语法错误\u001b[0m\n\u001b[1;37m                                                             ^\u001b[0m\n\u001b[1;31mSyntaxError\u001b[0m\u001b[1;31m:\u001b[0m EOL while scanning string literal\n"
     ]
    }
   ],
   "source": [
    "He_said=\"Johon's pro'gram ' is \\t \\n easy to \\read # 语法错误"
   ]
  },
  {
   "cell_type": "markdown",
   "metadata": {},
   "source": [
    "## 高级print\n",
    "- 参数 end： 以什么方式结束打印\n",
    "- 默认换行打印"
   ]
  },
  {
   "cell_type": "code",
   "execution_count": 89,
   "metadata": {},
   "outputs": [
    {
     "name": "stdout",
     "output_type": "stream",
     "text": [
      "0*1*2*3*4*5*6*7*8*9*"
     ]
    }
   ],
   "source": [
    "for i in range(10):\n",
    "    print(i,end = '*')"
   ]
  },
  {
   "cell_type": "markdown",
   "metadata": {},
   "source": [
    "## 函数str\n",
    "- 将类型强制转换成字符串类型\n",
    "- 其他一些以后会学到(list,set,tuple...)"
   ]
  },
  {
   "cell_type": "code",
   "execution_count": 92,
   "metadata": {},
   "outputs": [
    {
     "data": {
      "text/plain": [
       "'100'"
      ]
     },
     "execution_count": 92,
     "metadata": {},
     "output_type": "execute_result"
    }
   ],
   "source": [
    "str(100) #强制转换成字符串  list 链表  set 集合  tuple 元组"
   ]
  },
  {
   "cell_type": "markdown",
   "metadata": {},
   "source": [
    "## 字符串连接操作\n",
    "- 直接使用 “+” \n",
    "- join() 函数 "
   ]
  },
  {
   "cell_type": "code",
   "execution_count": 98,
   "metadata": {},
   "outputs": [
    {
     "data": {
      "text/plain": [
       "'ab'"
      ]
     },
     "execution_count": 98,
     "metadata": {},
     "output_type": "execute_result"
    }
   ],
   "source": [
    "'a' + 'b'#str可加可乘  不可减除"
   ]
  },
  {
   "cell_type": "code",
   "execution_count": 115,
   "metadata": {},
   "outputs": [
    {
     "name": "stdout",
     "output_type": "stream",
     "text": [
      "https://blog.csdn.net/luoganttcc/article/details/80946194?page=0\n",
      "https://blog.csdn.net/luoganttcc/article/details/80946194?page=1\n",
      "https://blog.csdn.net/luoganttcc/article/details/80946194?page=2\n",
      "https://blog.csdn.net/luoganttcc/article/details/80946194?page=3\n",
      "https://blog.csdn.net/luoganttcc/article/details/80946194?page=4\n",
      "https://blog.csdn.net/luoganttcc/article/details/80946194?page=5\n",
      "https://blog.csdn.net/luoganttcc/article/details/80946194?page=6\n",
      "https://blog.csdn.net/luoganttcc/article/details/80946194?page=7\n",
      "https://blog.csdn.net/luoganttcc/article/details/80946194?page=8\n",
      "https://blog.csdn.net/luoganttcc/article/details/80946194?page=9\n"
     ]
    }
   ],
   "source": [
    "for i in range(10):\n",
    "    url = 'https://blog.csdn.net/luoganttcc/article/details/80946194?page' + '=' + str(i)\n",
    "    print(url)"
   ]
  },
  {
   "cell_type": "code",
   "execution_count": 107,
   "metadata": {},
   "outputs": [
    {
     "data": {
      "text/plain": [
       "'a!b'"
      ]
     },
     "execution_count": 107,
     "metadata": {},
     "output_type": "execute_result"
    }
   ],
   "source": [
    "'!'.join(('a','b'))#('a','b')元组['a','b'] 列表   以.前面‘’中的字符连接"
   ]
  },
  {
   "cell_type": "code",
   "execution_count": 121,
   "metadata": {},
   "outputs": [
    {
     "name": "stdout",
     "output_type": "stream",
     "text": [
      "https://blog.csdn.net/luoganttcc/article/details/80946194?page=0\n",
      "https://blog.csdn.net/luoganttcc/article/details/80946194?page=1\n",
      "https://blog.csdn.net/luoganttcc/article/details/80946194?page=2\n",
      "https://blog.csdn.net/luoganttcc/article/details/80946194?page=3\n",
      "https://blog.csdn.net/luoganttcc/article/details/80946194?page=4\n",
      "https://blog.csdn.net/luoganttcc/article/details/80946194?page=5\n",
      "https://blog.csdn.net/luoganttcc/article/details/80946194?page=6\n",
      "https://blog.csdn.net/luoganttcc/article/details/80946194?page=7\n",
      "https://blog.csdn.net/luoganttcc/article/details/80946194?page=8\n",
      "https://blog.csdn.net/luoganttcc/article/details/80946194?page=9\n"
     ]
    }
   ],
   "source": [
    "for i in range(10):\n",
    "    url = 'https://blog.csdn.net/luoganttcc/article/details/80946194?page'\n",
    "    url = '='.join((url,str(i)))\n",
    "    print(url)"
   ]
  },
  {
   "cell_type": "code",
   "execution_count": 106,
   "metadata": {},
   "outputs": [
    {
     "name": "stdout",
     "output_type": "stream",
     "text": [
      "Wall time: 0 ns\n"
     ]
    },
    {
     "data": {
      "text/plain": [
       "'ai'"
      ]
     },
     "execution_count": 106,
     "metadata": {},
     "output_type": "execute_result"
    }
   ],
   "source": [
    " %time 'a' + 'i'"
   ]
  },
  {
   "cell_type": "code",
   "execution_count": 103,
   "metadata": {},
   "outputs": [
    {
     "name": "stdout",
     "output_type": "stream",
     "text": [
      "Wall time: 0 ns\n"
     ]
    },
    {
     "data": {
      "text/plain": [
       "'a100'"
      ]
     },
     "execution_count": 103,
     "metadata": {},
     "output_type": "execute_result"
    }
   ],
   "source": [
    "%time ''.join(('a'+'100'))"
   ]
  },
  {
   "cell_type": "code",
   "execution_count": 113,
   "metadata": {},
   "outputs": [
    {
     "name": "stdout",
     "output_type": "stream",
     "text": [
      "Wall time: 0 ns\n"
     ]
    },
    {
     "data": {
      "text/plain": [
       "'a^b^c^d'"
      ]
     },
     "execution_count": 113,
     "metadata": {},
     "output_type": "execute_result"
    }
   ],
   "source": [
    "joint = '^'\n",
    "%time  joint.join(('a', 'b', 'c', 'd')) "
   ]
  },
  {
   "cell_type": "markdown",
   "metadata": {},
   "source": [
    "## EP：\n",
    "- 将 “Welcome” “to” \"Python\" 拼接\n",
    "- 将int型 100 与 “joker is a bad man” 拼接\n",
    "- 从控制台读取字符串\n",
    "> 输入一个名字返回夸奖此人是一个帅哥"
   ]
  },
  {
   "cell_type": "code",
   "execution_count": 127,
   "metadata": {},
   "outputs": [
    {
     "name": "stdout",
     "output_type": "stream",
     "text": [
      "Welcome to Python\n",
      "joker is a bad man 100\n"
     ]
    }
   ],
   "source": [
    "print(' '.join(('Welcome','to','Python')))\n",
    "print(' '.join(('joker is a bad man',str(100))))\n"
   ]
  },
  {
   "cell_type": "code",
   "execution_count": 130,
   "metadata": {},
   "outputs": [
    {
     "name": "stdout",
     "output_type": "stream",
     "text": [
      "please a input nameTom\n",
      "Tom is a good bay\n"
     ]
    }
   ],
   "source": [
    "name = input('please a input name')\n",
    "print(' '.join((name,'is a good bay')))"
   ]
  },
  {
   "cell_type": "markdown",
   "metadata": {},
   "source": [
    "## 实例研究：最小数量硬币\n",
    "- 开发一个程序，让用户输入总金额，这是一个用美元和美分表示的浮点值，返回一个由美元、两角五分的硬币、一角的硬币、五分硬币、以及美分个数\n",
    "<img src=\"../Photo/22.png\"></img>"
   ]
  },
  {
   "cell_type": "code",
   "execution_count": null,
   "metadata": {},
   "outputs": [],
   "source": [
    "amount = eval(input('Enter an amount, for example 11.56: '))\n",
    "fenshuAmount = int(amount * 100)\n",
    "dollorAmount = fenshuAmount // 100\n",
    "remainDollorAmount = fenshuAmount % 100\n",
    "jiaoAmount = remainDollorAmount // 25\n",
    "remainJiaoAmount = remainDollorAmount % 25\n",
    "fenAmount = remainJiaoAmount // 10\n",
    "remainFenAmount = remainJiaoAmount % 10\n",
    "fenAmount2 = remainFenAmount // 5\n",
    "remainFenAmount2 = remainFenAmount % 5\n",
    "fenFinalAmount = remainFenAmount2 \n",
    "print('美元个数为',dollorAmount,'\\n', '两角五分硬币个数为',\n",
    "      jiaoAmount, '\\n','一角个数为', fenAmount, '\\n','五美分个数为', fenAmount2,'\\n', '一美分个数为',fenFinalAmount)"
   ]
  },
  {
   "cell_type": "code",
   "execution_count": null,
   "metadata": {},
   "outputs": [],
   "source": [
    "amount = eval(input('Ennter an amount,for example 11.56:'))\n",
    "remainingAmount = int(amount * 100)\n",
    "print(remainingAmount)\n",
    "numberOfOneDollars = remainingAmount //100\n",
    "remainingAmount = remainingAmount % 100\n",
    "numberOfQuarters = remainingAmount // 25\n",
    "remainingAmount = remainingAmount % 25\n",
    "numberOfDimes = remainingAmount // 10\n",
    "remainingAmount = remainingAmount % 10\n",
    "numberOfNickls = remainingAmount // 5\n",
    "remainingAmount = remainingAmount % 5\n",
    "numberOfPenies = remainingAmount\n",
    "print(numberOfOneDollars,numberOfQuarters,numberOfDimes,numberOfNickls,numberOfPenies)"
   ]
  },
  {
   "cell_type": "markdown",
   "metadata": {},
   "source": [
    "- Python弱项，对于浮点型的处理并不是很好，但是处理数据的时候使用的是Numpy类型\n",
    "<img src=\"../Photo/23.png\"></img>"
   ]
  },
  {
   "cell_type": "code",
   "execution_count": null,
   "metadata": {},
   "outputs": [],
   "source": [
    "remainingAmount = eval(input('Ennter an amount,for example 11.56:'))\n",
    "print(remainingAmount)\n",
    "numberOfOneDollars = remainingAmount //100\n",
    "remainingAmount = remainingAmount % 100\n",
    "numberOfQuarters = remainingAmount // 25\n",
    "remainingAmount = remainingAmount % 25\n",
    "numberOfDimes = remainingAmount // 10\n",
    "remainingAmount = remainingAmount % 10\n",
    "numberOfNickls = remainingAmount // 5\n",
    "remainingAmount = remainingAmount % 5\n",
    "numberOfPenies = remainingAmount\n",
    "print(numberOfOneDollars,numberOfQuarters,numberOfDimes,numberOfNickls,numberOfPenies)"
   ]
  },
  {
   "cell_type": "markdown",
   "metadata": {},
   "source": [
    "## id与type\n",
    "- id 查看内存地址，在判断语句中将会使用\n",
    "- type 查看元素类型"
   ]
  },
  {
   "cell_type": "code",
   "execution_count": 150,
   "metadata": {},
   "outputs": [
    {
     "data": {
      "text/plain": [
       "1613068864"
      ]
     },
     "execution_count": 150,
     "metadata": {},
     "output_type": "execute_result"
    }
   ],
   "source": [
    "id(100) #查看内存地址"
   ]
  },
  {
   "cell_type": "code",
   "execution_count": 154,
   "metadata": {
    "scrolled": true
   },
   "outputs": [
    {
     "data": {
      "text/plain": [
       "1612574880"
      ]
     },
     "execution_count": 154,
     "metadata": {},
     "output_type": "execute_result"
    }
   ],
   "source": [
    "id(True)"
   ]
  },
  {
   "cell_type": "code",
   "execution_count": 155,
   "metadata": {},
   "outputs": [
    {
     "data": {
      "text/plain": [
       "True"
      ]
     },
     "execution_count": 155,
     "metadata": {},
     "output_type": "execute_result"
    }
   ],
   "source": [
    "100 == 100"
   ]
  },
  {
   "cell_type": "code",
   "execution_count": 151,
   "metadata": {},
   "outputs": [
    {
     "data": {
      "text/plain": [
       "False"
      ]
     },
     "execution_count": 151,
     "metadata": {},
     "output_type": "execute_result"
    }
   ],
   "source": [
    "112345678800000000 is '112345678800000000'"
   ]
  },
  {
   "cell_type": "code",
   "execution_count": 152,
   "metadata": {},
   "outputs": [
    {
     "data": {
      "text/plain": [
       "True"
      ]
     },
     "execution_count": 152,
     "metadata": {},
     "output_type": "execute_result"
    }
   ],
   "source": [
    "112345678800000000 is 112345678800000000"
   ]
  },
  {
   "cell_type": "code",
   "execution_count": 153,
   "metadata": {},
   "outputs": [
    {
     "name": "stdout",
     "output_type": "stream",
     "text": [
      "1612574880 1612574912\n"
     ]
    },
    {
     "data": {
      "text/plain": [
       "False"
      ]
     },
     "execution_count": 153,
     "metadata": {},
     "output_type": "execute_result"
    }
   ],
   "source": [
    "a = True\n",
    "b = False\n",
    "print(id(a), id(b))\n",
    "a is b\n"
   ]
  },
  {
   "cell_type": "markdown",
   "metadata": {},
   "source": [
    "## 其他格式化语句见书"
   ]
  },
  {
   "cell_type": "markdown",
   "metadata": {},
   "source": [
    "# Homework\n",
    "- 1\n",
    "<img src=\"../Photo/24.png\"><img>\n",
    "<img src=\"../Photo/25.png\"><img>"
   ]
  },
  {
   "cell_type": "code",
   "execution_count": 157,
   "metadata": {},
   "outputs": [
    {
     "name": "stdout",
     "output_type": "stream",
     "text": [
      "Enter the length from the center to a vertex:5.5\n",
      "The area of the pentegon is 71.92\n"
     ]
    }
   ],
   "source": [
    "import math\n",
    "r = eval(input('Enter the length from the center to a vertex:'))\n",
    "s = 2*r*math.sin(math.pi/5)\n",
    "area = 5*s*s/(4*math.tan(math.pi/5))\n",
    "print('The area of the pentegon is',round(area,2))"
   ]
  },
  {
   "cell_type": "markdown",
   "metadata": {},
   "source": [
    "- 2\n",
    "<img src=\"../Photo/26.png\"><img>"
   ]
  },
  {
   "cell_type": "code",
   "execution_count": 162,
   "metadata": {},
   "outputs": [
    {
     "name": "stdout",
     "output_type": "stream",
     "text": [
      "Enter point 1 (latitude and longeitude) in degrees:39.55,-116.25\n",
      "Enter point 2 (latitude and longeitude) in degrees:41.5,87.37\n",
      "The distance between the two points is  10691.79183231593 km\n"
     ]
    }
   ],
   "source": [
    "import math\n",
    "x1,y1 = eval(input('Enter point 1 (latitude and longeitude) in degrees:'))\n",
    "x2,y2 = eval(input('Enter point 2 (latitude and longeitude) in degrees:'))\n",
    "a = math.radians(x1)\n",
    "b = math.radians(x2)\n",
    "c = math.radians(y1)\n",
    "e = math.radians(y2)\n",
    "radius = 6371.01\n",
    "d = radius*math.acos(math.sin(a)*math.sin(b)+math.cos(a)*math.cos(b)*math.cos(c-e))\n",
    "print('The distance between the two points is ',d,'km')\n"
   ]
  },
  {
   "cell_type": "markdown",
   "metadata": {},
   "source": [
    "- 3\n",
    "<img src=\"../Photo/27.png\"><img>"
   ]
  },
  {
   "cell_type": "code",
   "execution_count": 164,
   "metadata": {},
   "outputs": [
    {
     "name": "stdout",
     "output_type": "stream",
     "text": [
      "Enter the side:5.5\n",
      "The area of the pentegon is  52.044441367816255\n"
     ]
    }
   ],
   "source": [
    "import math\n",
    "s = eval(input('Enter the side:'))\n",
    "area = 5*s*s/(4*math.tan(math.pi/5))\n",
    "print('The area of the pentegon is ',area)"
   ]
  },
  {
   "cell_type": "markdown",
   "metadata": {},
   "source": [
    "- 4\n",
    "<img src=\"../Photo/28.png\"><img>"
   ]
  },
  {
   "cell_type": "code",
   "execution_count": 165,
   "metadata": {},
   "outputs": [
    {
     "name": "stdout",
     "output_type": "stream",
     "text": [
      "Enter the number of side:5\n",
      "Enter the side:6.5\n",
      "The area of the polygon is 72.69017017488386\n"
     ]
    }
   ],
   "source": [
    "import math\n",
    "n = eval(input('Enter the number of side:'))\n",
    "s = eval(input('Enter the side:'))\n",
    "area = n*s*s/(4*math.tan(math.pi/n))\n",
    "print('The area of the polygon is',area)"
   ]
  },
  {
   "cell_type": "markdown",
   "metadata": {},
   "source": [
    "- 5\n",
    "<img src=\"../Photo/29.png\"><img>\n",
    "<img src=\"../Photo/30.png\"><img>"
   ]
  },
  {
   "cell_type": "code",
   "execution_count": 167,
   "metadata": {},
   "outputs": [
    {
     "name": "stdout",
     "output_type": "stream",
     "text": [
      "Enter an ASCII code:69\n",
      "The charecter is E\n"
     ]
    }
   ],
   "source": [
    "num = eval(input('Enter an ASCII code:'))\n",
    "print('The charecter is',chr(num))"
   ]
  },
  {
   "cell_type": "markdown",
   "metadata": {},
   "source": [
    "- 6\n",
    "<img src=\"../Photo/31.png\"><img>"
   ]
  },
  {
   "cell_type": "code",
   "execution_count": 171,
   "metadata": {},
   "outputs": [
    {
     "name": "stdout",
     "output_type": "stream",
     "text": [
      "Enter employee's name:Smitch\n",
      "Enter number of hours worked in a week:10\n",
      "Enter hourly pay rate:9.75\n",
      "Enter federal tax withholding rate:0.20\n",
      "Enter state tax withholding rate:0.09\n",
      "Empoloyee Name: Smitch\n",
      "Hours Worked: 10\n",
      "Pay Rate: $ 9.75\n",
      "Gross Pay: $ 97.5\n",
      "Deducctions:\n",
      "   Federal Withholding( 20.0 %): $ 19.5\n",
      "   State Withholding( 9.0 %): $ 8.78\n",
      "   Total Deduction: $ 28.27\n",
      "Net Pay: $ 69.22\n"
     ]
    }
   ],
   "source": [
    "name = input('Enter employee\\'s name:')\n",
    "hour = eval(input('Enter number of hours worked in a week:'))\n",
    "pay = eval(input('Enter hourly pay rate:'))\n",
    "frate = eval(input('Enter federal tax withholding rate:'))\n",
    "srate = eval(input('Enter state tax withholding rate:'))\n",
    "total = hour * pay\n",
    "fpay = total*frate\n",
    "spay = total*srate\n",
    "print('Empoloyee Name:',name)\n",
    "print('Hours Worked:',hour)\n",
    "print('Pay Rate: $',pay)\n",
    "print('Gross Pay: $',total)\n",
    "print('Deducctions:')\n",
    "print('   Federal Withholding(',frate*100,'%): $',round(fpay,2))\n",
    "print('   State Withholding(',srate*100,'%): $',round(spay,2))\n",
    "print('   Total Deduction: $',round(fpay+spay,2))\n",
    "print('Net Pay: $',round(total-fpay-spay,2))"
   ]
  },
  {
   "cell_type": "markdown",
   "metadata": {},
   "source": [
    "- 7\n",
    "<img src=\"../Photo/32.png\"><img>"
   ]
  },
  {
   "cell_type": "code",
   "execution_count": 4,
   "metadata": {},
   "outputs": [
    {
     "name": "stdout",
     "output_type": "stream",
     "text": [
      "Enter an integer:3125\n",
      "The reversd number is  5213\n"
     ]
    }
   ],
   "source": [
    "num = input('Enter an integer:')\n",
    "rnum = ''\n",
    "for i in num:\n",
    "    rnum = i + rnum\n",
    "print('The reversd number is ',rnum)"
   ]
  },
  {
   "cell_type": "markdown",
   "metadata": {},
   "source": [
    "- 8 进阶：\n",
    "> 加密一串文本，并将解密后的文件写入本地保存"
   ]
  },
  {
   "cell_type": "code",
   "execution_count": 6,
   "metadata": {},
   "outputs": [
    {
     "name": "stdout",
     "output_type": "stream",
     "text": [
      "加密后： 2556739464Arr/dpn\n",
      "解密后： 1445628353@qq.com\n"
     ]
    }
   ],
   "source": [
    "email = '1445628353@qq.com' #加密\n",
    "res = ''\n",
    "for i in email:\n",
    "    res1 = ord(i) + 1\n",
    "    res2 = chr(res1)\n",
    "    res = ''.join((res,res2))\n",
    "print('加密后：',res)\n",
    "res3 = ''                   # 解密\n",
    "for i in res:\n",
    "    res1 = ord(i) - 1\n",
    "    res2 = chr(res1)\n",
    "    res3 = ''.join((res3,res2))\n",
    "print('解密后：',res3) \n"
   ]
  }
 ],
 "metadata": {
  "kernelspec": {
   "display_name": "Python 3",
   "language": "python",
   "name": "python3"
  },
  "language_info": {
   "codemirror_mode": {
    "name": "ipython",
    "version": 3
   },
   "file_extension": ".py",
   "mimetype": "text/x-python",
   "name": "python",
   "nbconvert_exporter": "python",
   "pygments_lexer": "ipython3",
   "version": "3.6.4"
  }
 },
 "nbformat": 4,
 "nbformat_minor": 2
}
