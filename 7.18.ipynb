{
 "cells": [
  {
   "cell_type": "markdown",
   "metadata": {},
   "source": [
    "# 选择\n",
    "## 布尔类型、数值和表达式\n",
    "![](../Photo/33.png)\n",
    "- 注意：比较运算符的相等是两个等到，一个等到代表赋值\n",
    "- 在Python中可以用整型0来代表False，其他数字来代表True\n",
    "- 后面还会讲到 is 在判断语句中的用发"
   ]
  },
  {
   "cell_type": "code",
   "execution_count": null,
   "metadata": {},
   "outputs": [],
   "source": []
  },
  {
   "cell_type": "code",
   "execution_count": 3,
   "metadata": {},
   "outputs": [
    {
     "data": {
      "text/plain": [
       "True"
      ]
     },
     "execution_count": 3,
     "metadata": {},
     "output_type": "execute_result"
    }
   ],
   "source": [
    "1 != 2"
   ]
  },
  {
   "cell_type": "code",
   "execution_count": 1,
   "metadata": {},
   "outputs": [
    {
     "data": {
      "text/plain": [
       "False"
      ]
     },
     "execution_count": 1,
     "metadata": {},
     "output_type": "execute_result"
    }
   ],
   "source": [
    "1 is 2 #判断内存地址"
   ]
  },
  {
   "cell_type": "code",
   "execution_count": 4,
   "metadata": {
    "scrolled": true
   },
   "outputs": [
    {
     "name": "stdout",
     "output_type": "stream",
     "text": [
      "please input your password:123abc\n",
      "Enter a number:245\n",
      "你的余额不够！\n",
      "please input your password:123\n",
      "密码错误，请重新输入你的密码：\n",
      "please input your password:123\n",
      "密码错误，请重新输入你的密码：\n",
      "你的密码错误三次，已被锁定！\n"
     ]
    }
   ],
   "source": [
    "total = 100\n",
    "for i in range(0,3):\n",
    "    passwd = '123abc'\n",
    "    password = input('please input your password:')\n",
    "    if passwd == password :\n",
    "        num = eval(input('Enter a number:'))\n",
    "        if num <= total :\n",
    "            total = total - num\n",
    "            print('你成功取款：',num)\n",
    "            print('你的余额为',total)\n",
    "            break\n",
    "        else:\n",
    "            print('你的余额不够！')\n",
    "            break\n",
    "    else:\n",
    "        print('密码错误，请重新输入你的密码：')\n",
    "if i >= 2 :\n",
    "    print('你的密码错误三次，已被锁定！')"
   ]
  },
  {
   "cell_type": "code",
   "execution_count": 5,
   "metadata": {},
   "outputs": [
    {
     "name": "stdout",
     "output_type": "stream",
     "text": [
      "Money34\n",
      "消费 34\n",
      "余额 66\n"
     ]
    }
   ],
   "source": [
    "init_account = 100\n",
    "get_money = eval(input('Money'))\n",
    "if init_account >= get_money:\n",
    "    print ('消费',get_money)\n",
    "    res = init_account - get_money\n",
    "    init_account = res\n",
    "    print('余额',res)\n",
    "else:\n",
    "    print('余额不足，请充值！')"
   ]
  },
  {
   "cell_type": "markdown",
   "metadata": {},
   "source": [
    "## 字符串的比较使用ASCII值"
   ]
  },
  {
   "cell_type": "code",
   "execution_count": 10,
   "metadata": {},
   "outputs": [
    {
     "data": {
      "text/plain": [
       "True"
      ]
     },
     "execution_count": 10,
     "metadata": {},
     "output_type": "execute_result"
    }
   ],
   "source": [
    "'Abcde' > 'ABce' #比较第一个不同的字符"
   ]
  },
  {
   "cell_type": "markdown",
   "metadata": {},
   "source": [
    "## Markdown \n",
    "- https://github.com/younghz/Markdown"
   ]
  },
  {
   "cell_type": "markdown",
   "metadata": {},
   "source": [
    "## EP:\n",
    "- <img src=\"../Photo/34.png\"></img>\n",
    "- 输入一个数字，判断其实奇数还是偶数"
   ]
  },
  {
   "cell_type": "code",
   "execution_count": 13,
   "metadata": {},
   "outputs": [
    {
     "data": {
      "text/plain": [
       "1"
      ]
     },
     "execution_count": 13,
     "metadata": {},
     "output_type": "execute_result"
    }
   ],
   "source": [
    "int(True)"
   ]
  },
  {
   "cell_type": "code",
   "execution_count": 14,
   "metadata": {},
   "outputs": [
    {
     "data": {
      "text/plain": [
       "0"
      ]
     },
     "execution_count": 14,
     "metadata": {},
     "output_type": "execute_result"
    }
   ],
   "source": [
    "int(False)"
   ]
  },
  {
   "cell_type": "code",
   "execution_count": 15,
   "metadata": {},
   "outputs": [
    {
     "data": {
      "text/plain": [
       "True"
      ]
     },
     "execution_count": 15,
     "metadata": {},
     "output_type": "execute_result"
    }
   ],
   "source": [
    "bool(4)"
   ]
  },
  {
   "cell_type": "code",
   "execution_count": 16,
   "metadata": {},
   "outputs": [
    {
     "data": {
      "text/plain": [
       "False"
      ]
     },
     "execution_count": 16,
     "metadata": {},
     "output_type": "execute_result"
    }
   ],
   "source": [
    "bool(0)"
   ]
  },
  {
   "cell_type": "markdown",
   "metadata": {},
   "source": [
    "## 产生随机数字\n",
    "- 函数random.randint(a,b) 可以用来产生一个a和b之间且包括a和b的随机整数"
   ]
  },
  {
   "cell_type": "code",
   "execution_count": 17,
   "metadata": {},
   "outputs": [
    {
     "data": {
      "text/plain": [
       "1"
      ]
     },
     "execution_count": 17,
     "metadata": {},
     "output_type": "execute_result"
    }
   ],
   "source": [
    "import random\n",
    "random.randint(0,10)"
   ]
  },
  {
   "cell_type": "markdown",
   "metadata": {},
   "source": [
    "##  其他random方法\n",
    "- random.random 返回0.0到1.0之间前闭后开区间的随机浮点\n",
    "- random.randrange(a,b) 前闭后开"
   ]
  },
  {
   "cell_type": "code",
   "execution_count": 19,
   "metadata": {},
   "outputs": [
    {
     "data": {
      "text/plain": [
       "0.13881707584518277"
      ]
     },
     "execution_count": 19,
     "metadata": {},
     "output_type": "execute_result"
    }
   ],
   "source": [
    "random.random() #不能加参数"
   ]
  },
  {
   "cell_type": "markdown",
   "metadata": {},
   "source": [
    "## EP：\n",
    "- 产生两个随机整数number1和number2，然后显示给用户，使用户输入数字的和，并判定其是否正确\n",
    "- 进阶:写一个随机序号点名程序"
   ]
  },
  {
   "cell_type": "code",
   "execution_count": 26,
   "metadata": {},
   "outputs": [
    {
     "name": "stdout",
     "output_type": "stream",
     "text": [
      "5 0\n",
      "Enter the sum of number1 and number2:5\n",
      "Ok\n"
     ]
    }
   ],
   "source": [
    "import random\n",
    "number1 = random.randint(0,9)\n",
    "number2 = random.randint(0,9)\n",
    "print(number1,number2)\n",
    "summ = number1 + number2\n",
    "total = eval(input('Enter the sum of number1 and number2:'))\n",
    "if total == summ :\n",
    "    print('Ok')\n",
    "else :\n",
    "    print('False')"
   ]
  },
  {
   "cell_type": "code",
   "execution_count": 27,
   "metadata": {},
   "outputs": [
    {
     "name": "stdout",
     "output_type": "stream",
     "text": [
      "请第 7 行第 3 列的同学\n"
     ]
    }
   ],
   "source": [
    "import random\n",
    "raw = random.randint(1,10)\n",
    "cow = random.randint(1,5)\n",
    "print('请第',raw,'行第',cow,'列的同学')"
   ]
  },
  {
   "cell_type": "markdown",
   "metadata": {},
   "source": [
    "## if语句\n",
    "- 如果条件正确就执行一个单向if语句，亦即当条件为真的时候才执行if内部的语句\n",
    "- Python有很多选择语句:\n",
    "> - 单向if \n",
    "  - 双向if-else\n",
    "  - 嵌套if\n",
    "  - 多向if-elif-else\n",
    "  \n",
    "- 注意：当语句含有子语句的时候，那么一定至少要有一个缩进，也就是说如果有儿子存在，那么一定要缩进\n",
    "- 切记不可tab键和space混用，单用tab 或者 space\n",
    "- 当你输出的结果是无论if是否为真时都需要显示时，语句应该与if对齐"
   ]
  },
  {
   "cell_type": "code",
   "execution_count": 36,
   "metadata": {},
   "outputs": [
    {
     "name": "stdout",
     "output_type": "stream",
     "text": [
      "Enter a grade:45.5\n",
      "E\n"
     ]
    }
   ],
   "source": [
    "grade = eval(input('Enter a grade:'))\n",
    "if grade > 100 :\n",
    "    print('grsde is False')\n",
    "elif grade >= 90.0 :\n",
    "    print('A')\n",
    "elif grade >= 80.0 :\n",
    "    print('B')\n",
    "elif grade >= 70.0 :\n",
    "    print('C')\n",
    "elif grade >= 60.0 :\n",
    "    print('D')\n",
    "else :\n",
    "    print('E')"
   ]
  },
  {
   "cell_type": "code",
   "execution_count": null,
   "metadata": {},
   "outputs": [],
   "source": []
  },
  {
   "cell_type": "markdown",
   "metadata": {},
   "source": [
    "## EP：\n",
    "- 用户输入一个数字，判断其实奇数还是偶数\n",
    "- 进阶：可以查看下4.5实例研究猜生日"
   ]
  },
  {
   "cell_type": "code",
   "execution_count": 39,
   "metadata": {},
   "outputs": [
    {
     "name": "stdout",
     "output_type": "stream",
     "text": [
      "Enter a num:47\n",
      "47 是奇数\n"
     ]
    }
   ],
   "source": [
    "num = eval(input('Enter a num:'))\n",
    "if num % 2 == 0 :\n",
    "    print(num,'是偶数')\n",
    "else :\n",
    "    print(num,'是奇数')"
   ]
  },
  {
   "cell_type": "markdown",
   "metadata": {},
   "source": [
    "## 双向if-else 语句\n",
    "- 如果条件为真，那么走if内部语句，否则走else内部语句"
   ]
  },
  {
   "cell_type": "markdown",
   "metadata": {},
   "source": [
    "## EP：\n",
    "- 产生两个随机整数number1和number2，然后显示给用户，使用户输入数字，并判定其是否正确,如果正确打印“you‘re correct”，否则打印正确错误"
   ]
  },
  {
   "cell_type": "code",
   "execution_count": 46,
   "metadata": {},
   "outputs": [
    {
     "name": "stdout",
     "output_type": "stream",
     "text": [
      "85 76\n",
      "Enter x,y:85,76\n",
      "you are correct\n"
     ]
    }
   ],
   "source": [
    "import random\n",
    "number1 = random.randint(10,99)\n",
    "number2 = random.randint(10,99)\n",
    "print(number1,number2)\n",
    "x,y = eval(input('Enter x,y:'))\n",
    "if x==number1 :\n",
    "    if y==number2 :\n",
    "        print('you are correct')\n",
    "    else:\n",
    "        print('you are False')\n",
    "else:\n",
    "    print('you are False')   "
   ]
  },
  {
   "cell_type": "markdown",
   "metadata": {},
   "source": [
    "## 嵌套if 和多向if-elif-else\n",
    "![](../Photo/35.png)"
   ]
  },
  {
   "cell_type": "markdown",
   "metadata": {},
   "source": [
    "## EP：\n",
    "- 提示用户输入一个年份，然后显示表示这一年的动物\n",
    "![](../Photo/36.png)\n",
    "- 计算身体质量指数的程序\n",
    "- BMI = 以千克为单位的体重除以以米为单位的身高\n",
    "![](../Photo/37.png)"
   ]
  },
  {
   "cell_type": "code",
   "execution_count": 49,
   "metadata": {},
   "outputs": [
    {
     "name": "stdout",
     "output_type": "stream",
     "text": [
      "Enter a year:1997\n",
      "牛\n"
     ]
    }
   ],
   "source": [
    "year = eval(input('Enter a year:'))\n",
    "if year % 12 == 0:\n",
    "    print('猴')\n",
    "elif year % 12 == 1:\n",
    "    print('鸡')\n",
    "elif year % 12 == 2:\n",
    "    print('狗')\n",
    "elif year % 12 == 3:\n",
    "    print('猪')\n",
    "elif year % 12 == 4:\n",
    "    print('鼠')\n",
    "elif year % 12 == 5:\n",
    "    print('牛')\n",
    "elif year % 12 == 6:\n",
    "    print('虎')\n",
    "elif year % 12 == 7:\n",
    "    print('兔')\n",
    "elif year % 12 == 8:\n",
    "    print('龙')\n",
    "elif year % 12 == 9:\n",
    "    print('蛇')\n",
    "elif year % 12 == 10:\n",
    "    print('马')\n",
    "elif year % 12 == 11:\n",
    "    print('羊')"
   ]
  },
  {
   "cell_type": "code",
   "execution_count": 66,
   "metadata": {},
   "outputs": [
    {
     "name": "stdout",
     "output_type": "stream",
     "text": [
      "Enter your weight and height:64.5,1.60\n",
      "超重\n"
     ]
    }
   ],
   "source": [
    "weight,height = eval(input('Enter your weight and height:'))\n",
    "BMI = weight / (height*height)\n",
    "if BMI < 18.5 :\n",
    "    print('超轻')\n",
    "elif BMI < 25.0 :\n",
    "    print('标准')\n",
    "elif BMI < 30.0 :\n",
    "    print('超重')\n",
    "else :\n",
    "    print('痴重')"
   ]
  },
  {
   "cell_type": "markdown",
   "metadata": {},
   "source": [
    "## 逻辑运算符\n",
    "![](../Photo/38.png)"
   ]
  },
  {
   "cell_type": "code",
   "execution_count": 67,
   "metadata": {},
   "outputs": [
    {
     "data": {
      "text/plain": [
       "False"
      ]
     },
     "execution_count": 67,
     "metadata": {},
     "output_type": "execute_result"
    }
   ],
   "source": [
    "1 is not 1"
   ]
  },
  {
   "cell_type": "code",
   "execution_count": 68,
   "metadata": {},
   "outputs": [
    {
     "name": "stdout",
     "output_type": "stream",
     "text": [
      "正常人\n"
     ]
    }
   ],
   "source": [
    "a = '男'\n",
    "b = '女'\n",
    "if a is b :\n",
    "    print('人妖')\n",
    "else :\n",
    "    print('正常人')"
   ]
  },
  {
   "cell_type": "markdown",
   "metadata": {},
   "source": [
    "![](../Photo/39.png)\n",
    "![](../Photo/40.png)"
   ]
  },
  {
   "cell_type": "markdown",
   "metadata": {},
   "source": [
    "## EP：\n",
    "- 判定闰年：一个年份如果能被4整除但不能被100整除，或者能被400整除，那么这个年份就是闰年\n",
    "- 提示用户输入一个年份，并返回是否是闰年\n",
    "- 提示用户输入一个数字，判断其是否为水仙花数"
   ]
  },
  {
   "cell_type": "code",
   "execution_count": 73,
   "metadata": {},
   "outputs": [
    {
     "name": "stdout",
     "output_type": "stream",
     "text": [
      "Enter a year:2016\n",
      "2016 是闰年\n"
     ]
    }
   ],
   "source": [
    "year = eval(input('Enter a year:'))\n",
    "if (year % 4 == 0 and year % 100 != 0) or year % 400 == 0:\n",
    "    print(year,'是闰年')\n",
    "else:\n",
    "    print(year,'不是闰年')"
   ]
  },
  {
   "cell_type": "code",
   "execution_count": 3,
   "metadata": {},
   "outputs": [
    {
     "name": "stdout",
     "output_type": "stream",
     "text": [
      "Enter a num:153\n",
      "153 是水仙花数\n"
     ]
    }
   ],
   "source": [
    "num = eval(input('Enter a num:'))\n",
    "a = num // 100 \n",
    "b = ( num // 10 ) % 10\n",
    "c = num % 10\n",
    "#type(num)\n",
    "#print(a,b,c,num)\n",
    "if num == a**3 + b**3 + c**3:\n",
    "    print (num,'是水仙花数') \n",
    "else :\n",
    "    print(num,'不是水仙花数')"
   ]
  },
  {
   "cell_type": "code",
   "execution_count": 96,
   "metadata": {},
   "outputs": [
    {
     "name": "stdout",
     "output_type": "stream",
     "text": [
      "153 是水仙花数 370 是水仙花数 371 是水仙花数 407 是水仙花数 "
     ]
    }
   ],
   "source": [
    "import math\n",
    "for i in range(100,999):\n",
    "    str_num = str(i)\n",
    "    a = int(str_num[0])\n",
    "    b = int(str_num[1])\n",
    "    c = int(str_num[2])\n",
    "    if i == math.pow(a,3) + math.pow(b,3) + math.pow(c,3):\n",
    "        print(i,'是水仙花数',end = ' ')"
   ]
  },
  {
   "cell_type": "markdown",
   "metadata": {},
   "source": [
    "## 实例研究：彩票\n",
    "![](../Photo/41.png)"
   ]
  },
  {
   "cell_type": "code",
   "execution_count": 8,
   "metadata": {},
   "outputs": [
    {
     "name": "stdout",
     "output_type": "stream",
     "text": [
      "57\n",
      "Enter x:34\n",
      "没有中奖\n"
     ]
    }
   ],
   "source": [
    "import random\n",
    "res = random.randint(10,99)\n",
    "a = res // 10\n",
    "b = res % 10\n",
    "print(res)\n",
    "x = eval(input('Enter x:'))\n",
    "if res == x :\n",
    "    print('奖金10000$')\n",
    "elif x == b * 10 + a:\n",
    "    print('奖金3000$')\n",
    "elif x // 10 != a and x //10 != b and x % 10 != a and x % 10 != b:\n",
    "    print('没有中奖')\n",
    "else:\n",
    "    print('奖金1000$')"
   ]
  },
  {
   "cell_type": "markdown",
   "metadata": {},
   "source": [
    "# Homework\n",
    "- 1\n",
    "![](../Photo/42.png)"
   ]
  },
  {
   "cell_type": "code",
   "execution_count": 14,
   "metadata": {},
   "outputs": [
    {
     "name": "stdout",
     "output_type": "stream",
     "text": [
      "Enter a,b,c:1,2,3\n",
      "The equation has no real roots\n"
     ]
    }
   ],
   "source": [
    "import math\n",
    "a,b,c = eval(input('Enter a,b,c:'))\n",
    "x = b**2-4*a*c\n",
    "if x > 0:\n",
    "    r1 = ((-b+math.sqrt(x))/(2*a))\n",
    "    r2 = ((-b-math.sqrt(x))/(2*a))\n",
    "    print('The roots are ',round(r1,6),'and',round(r2,5))\n",
    "elif x == 0:\n",
    "    r = -b/(2*a)\n",
    "    print('The root is ',r)\n",
    "else:\n",
    "    print('The equation has no real roots')"
   ]
  },
  {
   "cell_type": "markdown",
   "metadata": {},
   "source": [
    "- 2\n",
    "![](../Photo/43.png)"
   ]
  },
  {
   "cell_type": "code",
   "execution_count": 16,
   "metadata": {},
   "outputs": [
    {
     "name": "stdout",
     "output_type": "stream",
     "text": [
      "75 4\n",
      "Enter a num:79\n",
      "True\n"
     ]
    }
   ],
   "source": [
    "import random\n",
    "num1 = random.randint(0,99)\n",
    "num2 = random.randint(0,99)\n",
    "print(num1,num2)\n",
    "total = eval(input('Enter a num:'))\n",
    "if total == num1 + num2:\n",
    "    print('True')\n",
    "else:\n",
    "    print('False')"
   ]
  },
  {
   "cell_type": "markdown",
   "metadata": {},
   "source": [
    "- 3\n",
    "![](../Photo/44.png)"
   ]
  },
  {
   "cell_type": "code",
   "execution_count": 27,
   "metadata": {},
   "outputs": [
    {
     "name": "stdout",
     "output_type": "stream",
     "text": [
      "Enter today's day:0\n",
      "Enter the number of days elapsed since today:31\n",
      "Today is Sunday and the future day is Wednesday\n"
     ]
    }
   ],
   "source": [
    "day = eval(input('Enter today\\'s day:'))\n",
    "num = eval(input('Enter the number of days elapsed since today:'))\n",
    "week_day =[ 'Sunday','Monday','Tuesday','Wednesday','Thursday','Friday', 'Saturday']\n",
    "a = (day + num) % 7\n",
    "print('Today is',week_day[day],'and the future day is',week_day[a])"
   ]
  },
  {
   "cell_type": "markdown",
   "metadata": {},
   "source": [
    "- 4\n",
    "![](../Photo/45.png)"
   ]
  },
  {
   "cell_type": "code",
   "execution_count": 30,
   "metadata": {},
   "outputs": [
    {
     "name": "stdout",
     "output_type": "stream",
     "text": [
      "Enter a,b,c:29,68,11\n",
      "11 29 68\n"
     ]
    }
   ],
   "source": [
    "a,b,c = eval(input('Enter a,b,c:'))\n",
    "if a < b :\n",
    "    t = a\n",
    "    a = b\n",
    "    b = t\n",
    "if a < c :\n",
    "    t = a\n",
    "    a = c\n",
    "    c = t\n",
    "if b < c :\n",
    "    t = b\n",
    "    b = c\n",
    "    c = t\n",
    "print(c,b,a)"
   ]
  },
  {
   "cell_type": "markdown",
   "metadata": {},
   "source": [
    "- 5\n",
    "![](../Photo/46.png)"
   ]
  },
  {
   "cell_type": "code",
   "execution_count": 31,
   "metadata": {},
   "outputs": [
    {
     "name": "stdout",
     "output_type": "stream",
     "text": [
      "Enter weight and price for package:50,24.59\n",
      "Enter weight and price for package:25,11.99\n",
      "Package 2 has the better price\n"
     ]
    }
   ],
   "source": [
    "weight1,price1 = eval(input('Enter weight and price for package:'))\n",
    "weight2,price2 = eval(input('Enter weight and price for package:'))\n",
    "a = weight1 / price1\n",
    "b = weight2 / price2\n",
    "if a > b :\n",
    "    print('Package 1 has the better price')\n",
    "elif a == b :\n",
    "    print('The two package had same')\n",
    "else:\n",
    "    print('Package 2 has the better price')"
   ]
  },
  {
   "cell_type": "markdown",
   "metadata": {},
   "source": [
    "- 6\n",
    "![](../Photo/47.png)"
   ]
  },
  {
   "cell_type": "code",
   "execution_count": 51,
   "metadata": {},
   "outputs": [
    {
     "name": "stdout",
     "output_type": "stream",
     "text": [
      "Enter mouth and year:3,2005\n",
      "2005 年 三 月份有31天\n"
     ]
    }
   ],
   "source": [
    "month,year = eval(input('Enter mouth and year:'))\n",
    "month_dir = ['一','二','三','四','五','六','七','八','九','十','十一','十二']\n",
    "if month % 12 == 4 and month % 12 == 6 and month % 12 == 9 and month % 12 == 11:\n",
    "    print(year,'年',month_dir[month-1],'月份有30天')\n",
    "elif ((year % 4 == 0 and year % 100 !=0) or year % 400 == 0) and month % 12 == 2:\n",
    "     print(year,'年',month_dir[month-1],'月份有29天')\n",
    "elif mouth % 12 == 2:\n",
    "     print(year,'年',month_dir[month-1],'月份有28天')\n",
    "else:\n",
    "     print(year,'年',month_dir[month-1],'月份有31天')"
   ]
  },
  {
   "cell_type": "markdown",
   "metadata": {},
   "source": [
    "- 7\n",
    "![](../Photo/48.png)"
   ]
  },
  {
   "cell_type": "code",
   "execution_count": 34,
   "metadata": {},
   "outputs": [
    {
     "name": "stdout",
     "output_type": "stream",
     "text": [
      "Enter the coin's (0 is up and 1 is back):0\n",
      "True\n",
      "0\n"
     ]
    }
   ],
   "source": [
    "import random\n",
    "res = random.randint(0,1)\n",
    "num = eval(input('Enter the coin\\'s (0 is up and 1 is back):'))\n",
    "if res == num :\n",
    "    print('True')\n",
    "else:\n",
    "    print('False')\n",
    "print(res)"
   ]
  },
  {
   "cell_type": "markdown",
   "metadata": {},
   "source": [
    "- 8\n",
    "![](../Photo/49.png)"
   ]
  },
  {
   "cell_type": "code",
   "execution_count": 50,
   "metadata": {
    "scrolled": true
   },
   "outputs": [
    {
     "name": "stdout",
     "output_type": "stream",
     "text": [
      "scissor(0),rock(1),paper(2):1\n",
      "The computer is paper .You are  rock .You lose.\n",
      "2\n"
     ]
    }
   ],
   "source": [
    "import random\n",
    "res = random.randint(0,2)\n",
    "we = ['scissor','rock','paper']\n",
    "num = eval(input('scissor(0),rock(1),paper(2):'))\n",
    "if res  < num  or (res % 2 == num % 2 and res > num ) :\n",
    "    print('The computer is',we[res],'.You are ',we[num],'.You won.')\n",
    "elif res == num:\n",
    "    print('The computer is',we[res],'.You are ',we[num],'too.It is a draw.')\n",
    "else:\n",
    "    print('The computer is',we[res],'.You are ',we[num],'.You lose.')\n",
    "print(res)"
   ]
  },
  {
   "cell_type": "markdown",
   "metadata": {},
   "source": [
    "- 9\n",
    "![](../Photo/50.png)"
   ]
  },
  {
   "cell_type": "code",
   "execution_count": 66,
   "metadata": {},
   "outputs": [
    {
     "name": "stdout",
     "output_type": "stream",
     "text": [
      "Enter year:(e.g.,2008):2013\n",
      "Enter month:1-12:1\n",
      "Enter the day of the month:1-31:25\n",
      "Day of the week is Sunday\n"
     ]
    }
   ],
   "source": [
    "import math\n",
    "year = eval(input('Enter year:(e.g.,2008):'))\n",
    "month = eval(input('Enter month:1-12:'))\n",
    "q = eval(input('Enter the day of the month:1-31:'))\n",
    "week_dir = ['Saturday','Sunday','Monday','Tuesday','Wednesday','Thursday','Friday']\n",
    "if 3 < m < 13:\n",
    "    m = month\n",
    "    j = year / 100\n",
    "    k = year % 100\n",
    "elif m == 1:\n",
    "    m = 13\n",
    "    j = (year - 1) / 100\n",
    "    k = (year - 1) % 100\n",
    "elif m == 2:\n",
    "    m = 14\n",
    "    j = (year - 1) / 100\n",
    "    k = (year - 1) % 100\n",
    "h = int(( q + (( 26 * ( m+1) ) / 10 ) + k + ( k / 4 ) + ( j / 4 ) + 5 * j ) % 7)\n",
    "print('Day of the week is',week_dir[h])"
   ]
  },
  {
   "cell_type": "markdown",
   "metadata": {},
   "source": [
    "- 10\n",
    "![](../Photo/51.png)"
   ]
  },
  {
   "cell_type": "code",
   "execution_count": 58,
   "metadata": {},
   "outputs": [
    {
     "name": "stdout",
     "output_type": "stream",
     "text": [
      "The card you picked is the  Jack of Heitao\n"
     ]
    }
   ],
   "source": [
    "import random\n",
    "num1 = random.randint(0,13)\n",
    "num2 = random.randint(0,3)\n",
    "pi = ['Ace',2,3,4,5,6,7,8,9,10,'Jack','Queen','King']\n",
    "flo = ['Meihua','Heart','Fangkuan','Heitao']\n",
    "print('The card you picked is the ',pi[num1],'of',flo[num2])"
   ]
  },
  {
   "cell_type": "markdown",
   "metadata": {},
   "source": [
    "- 11\n",
    "![](../Photo/52.png)"
   ]
  },
  {
   "cell_type": "code",
   "execution_count": 56,
   "metadata": {},
   "outputs": [
    {
     "name": "stdout",
     "output_type": "stream",
     "text": [
      "Enter a three-digit integer:123\n",
      "123 is not a palindrome\n"
     ]
    }
   ],
   "source": [
    "num = eval(input('Enter a three-digit integer:'))\n",
    "re_num = ''\n",
    "for i in str(num):\n",
    "    re_num = i + re_num\n",
    "if int(re_num) == num :\n",
    "    print(num,'is a palindrome')\n",
    "else:\n",
    "    print(num,'is not a palindrome')"
   ]
  },
  {
   "cell_type": "markdown",
   "metadata": {},
   "source": [
    "- 12\n",
    "![](../Photo/53.png)"
   ]
  },
  {
   "cell_type": "code",
   "execution_count": 53,
   "metadata": {},
   "outputs": [
    {
     "name": "stdout",
     "output_type": "stream",
     "text": [
      "Enter three edges:1,1,1\n",
      "The perimeter is  3\n"
     ]
    }
   ],
   "source": [
    "a,b,c = eval(input('Enter three edges:'))\n",
    "if a + b > c and b + c > a and a + c > b:\n",
    "    print('The perimeter is ',a+b+c)\n",
    "else:\n",
    "    print('The perimeter is unlegal')"
   ]
  }
 ],
 "metadata": {
  "kernelspec": {
   "display_name": "Python 3",
   "language": "python",
   "name": "python3"
  },
  "language_info": {
   "codemirror_mode": {
    "name": "ipython",
    "version": 3
   },
   "file_extension": ".py",
   "mimetype": "text/x-python",
   "name": "python",
   "nbconvert_exporter": "python",
   "pygments_lexer": "ipython3",
   "version": "3.6.4"
  }
 },
 "nbformat": 4,
 "nbformat_minor": 2
}
